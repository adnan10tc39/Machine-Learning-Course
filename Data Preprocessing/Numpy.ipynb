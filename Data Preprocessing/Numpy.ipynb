{
  "nbformat": 4,
  "nbformat_minor": 0,
  "metadata": {
    "colab": {
      "name": "Numpy.ipynb",
      "provenance": [],
      "collapsed_sections": [],
      "authorship_tag": "ABX9TyPXSTubRuMSPDtBfaRjHd5O",
      "include_colab_link": true
    },
    "kernelspec": {
      "name": "python3",
      "display_name": "Python 3"
    },
    "language_info": {
      "name": "python"
    }
  },
  "cells": [
    {
      "cell_type": "markdown",
      "metadata": {
        "id": "view-in-github",
        "colab_type": "text"
      },
      "source": [
        "<a href=\"https://colab.research.google.com/github/adnan10tc39/Machine-Learning-Course/blob/main/Data%20Preprocessing/Numpy.ipynb\" target=\"_parent\"><img src=\"https://colab.research.google.com/assets/colab-badge.svg\" alt=\"Open In Colab\"/></a>"
      ]
    },
    {
      "cell_type": "code",
      "execution_count": 1,
      "metadata": {
        "id": "hh_CZvHQbxYV"
      },
      "outputs": [],
      "source": [
        "# numaric calculations k liay hum numpy ka istemal karty hain.... Num=numaric py=python\n",
        "#numpy library support karti hai multi-dimentional arrays ko\n",
        "#humien agar machine learning model ko train karna hai tu us k liay humien thousands of data machine ko daina ho ga\n",
        "#lakin jo humara data ho ga wo koe na koe particulr fileformate mien ho ga eg tsv,csv in short wo data kise csv ya tsv ki file\n",
        "#mien ho ga hum ye file directly machine learning model karny k liay nahi daity.\n",
        "#soo  humien pehly us data ko jo files k ander hai usy covert karna ho ga arrays ki form mien (1D array or 2D array w.r.t our model).\n",
        "#aur pher machine array ka use kar k model trained kary gi"
      ]
    },
    {
      "cell_type": "code",
      "source": [
        "#numpy large amount of data ko array ki form mien convert karta hai.\n",
        "#numpay b python mien list ki terhan hai lakin numpy C language mien bani hai tu is ki processing fast hai ,low memory utlize karta hai\n"
      ],
      "metadata": {
        "id": "2IiBTRb8dqO5"
      },
      "execution_count": 3,
      "outputs": []
    },
    {
      "cell_type": "code",
      "source": [
        "#example of numpy in machine learning \n",
        "#for example humien kise image mien say object ko detect karna hai tu hum directly machine ko images nahi daity balku machine images ko understand he nahi \n",
        "#kary gi machine tu 0,1 ko under stand karti hai. hum is machine ko pehly binary mien convert karien gy .\n",
        "#machgine binary ko b directly nahi understand kari balk binary ko hum array ki form mien machine ko dien gy tab he wo sahi say understand kary gi.\n"
      ],
      "metadata": {
        "id": "zT47WDogeMjj"
      },
      "execution_count": 5,
      "outputs": []
    },
    {
      "cell_type": "code",
      "source": [
        "#tsv= means humari file mien data tab say seprate ho ga means her do data k dermiyan tab hai,space hai\n",
        "#csv mien humara data comma say seprate hota hai.\n",
        "#machine learning mien 2D-array ko matric bolty hain,\n",
        "#aur 1D array ko vector bolty hain."
      ],
      "metadata": {
        "id": "42YpxLKfe6jv"
      },
      "execution_count": 6,
      "outputs": []
    },
    {
      "cell_type": "code",
      "source": [
        "#installation of numpy array \"pip install numpy\"\n",
        "import numpy as np    #np is jusrt a short representation of numpy"
      ],
      "metadata": {
        "id": "jU8kE2EQgTX7"
      },
      "execution_count": 7,
      "outputs": []
    },
    {
      "cell_type": "code",
      "source": [
        "#now create a 1D array\n",
        "arr_1d=np.array([1,2,3,4])   #np.array(value of array)\n",
        "print(arr_1d)"
      ],
      "metadata": {
        "colab": {
          "base_uri": "https://localhost:8080/"
        },
        "id": "YLR-Ekngg2fu",
        "outputId": "a0360293-625f-432b-bf90-ffdd5db507a4"
      },
      "execution_count": 11,
      "outputs": [
        {
          "output_type": "stream",
          "name": "stdout",
          "text": [
            "[1 2 3 4]\n"
          ]
        }
      ]
    },
    {
      "cell_type": "code",
      "source": [
        "#check karny kliay k ye data array mien convert hua b hai k nahi \n",
        "arr_1d   #or type(arr_1d)"
      ],
      "metadata": {
        "colab": {
          "base_uri": "https://localhost:8080/"
        },
        "id": "puhUMhQdjNdj",
        "outputId": "88db35b6-4665-4298-ca0c-a2243df08e44"
      },
      "execution_count": 12,
      "outputs": [
        {
          "output_type": "execute_result",
          "data": {
            "text/plain": [
              "array([1, 2, 3, 4])"
            ]
          },
          "metadata": {},
          "execution_count": 12
        }
      ]
    },
    {
      "cell_type": "code",
      "source": [
        "#check karny k liay k jo humara array bana hai wo 1D hai ya 2D hai\n",
        "arr_1d.ndim     #ndim = n dimention"
      ],
      "metadata": {
        "colab": {
          "base_uri": "https://localhost:8080/"
        },
        "id": "oAKbzRhsjZbG",
        "outputId": "2d0dc868-a7b8-4059-a54c-d50b3e0757ae"
      },
      "execution_count": 13,
      "outputs": [
        {
          "output_type": "execute_result",
          "data": {
            "text/plain": [
              "1"
            ]
          },
          "metadata": {},
          "execution_count": 13
        }
      ]
    },
    {
      "cell_type": "code",
      "source": [
        "#now hum 2D array create karty hain. 2d array basically list of list hota hai.\n",
        "arr_2d=np.array([[1,2,3,4],[5,6,7,8]])\n",
        "print(arr_2d)"
      ],
      "metadata": {
        "colab": {
          "base_uri": "https://localhost:8080/"
        },
        "id": "4LwluhvxkLXp",
        "outputId": "5bc1a740-7d80-4bb9-9190-51a23c8581bc"
      },
      "execution_count": 14,
      "outputs": [
        {
          "output_type": "stream",
          "name": "stdout",
          "text": [
            "[[1 2 3 4]\n",
            " [5 6 7 8]]\n"
          ]
        }
      ]
    },
    {
      "cell_type": "code",
      "source": [
        "#check array 2d or not\n",
        "arr_2d.ndim"
      ],
      "metadata": {
        "colab": {
          "base_uri": "https://localhost:8080/"
        },
        "id": "SxEe80Rbk1lV",
        "outputId": "ea7ca9dc-75a7-43d7-b2e1-60b8f4fcd7f7"
      },
      "execution_count": 15,
      "outputs": [
        {
          "output_type": "execute_result",
          "data": {
            "text/plain": [
              "2"
            ]
          },
          "metadata": {},
          "execution_count": 15
        }
      ]
    },
    {
      "cell_type": "code",
      "source": [
        "#agar hum ny check karna hai humary array ka size(number of elements) kia hai\n",
        "#jisarray ka size check karna hai us ka name.size\n",
        "arr_1d.size"
      ],
      "metadata": {
        "colab": {
          "base_uri": "https://localhost:8080/"
        },
        "id": "NbmmP8TFlKaS",
        "outputId": "9a6e85ec-e6a2-437a-a680-60e3ce643a30"
      },
      "execution_count": 18,
      "outputs": [
        {
          "output_type": "execute_result",
          "data": {
            "text/plain": [
              "4"
            ]
          },
          "metadata": {},
          "execution_count": 18
        }
      ]
    },
    {
      "cell_type": "code",
      "source": [
        "arr_2d.size"
      ],
      "metadata": {
        "colab": {
          "base_uri": "https://localhost:8080/"
        },
        "id": "1jE-4b0plcRe",
        "outputId": "ac52772b-8c5b-48be-d669-70f3d3daf698"
      },
      "execution_count": 19,
      "outputs": [
        {
          "output_type": "execute_result",
          "data": {
            "text/plain": [
              "8"
            ]
          },
          "metadata": {},
          "execution_count": 19
        }
      ]
    },
    {
      "cell_type": "code",
      "source": [
        "#agar humien array ki shape means no. of rows and columns check karny hain (row,column)\n",
        "arr_1d.shape"
      ],
      "metadata": {
        "colab": {
          "base_uri": "https://localhost:8080/"
        },
        "id": "vV3D1NVQle55",
        "outputId": "d5aa15e9-39b9-4396-872f-b08e38c20f00"
      },
      "execution_count": 20,
      "outputs": [
        {
          "output_type": "execute_result",
          "data": {
            "text/plain": [
              "(4,)"
            ]
          },
          "metadata": {},
          "execution_count": 20
        }
      ]
    },
    {
      "cell_type": "code",
      "source": [
        "arr_2d.shape"
      ],
      "metadata": {
        "colab": {
          "base_uri": "https://localhost:8080/"
        },
        "id": "bjqjfrj-mDyQ",
        "outputId": "2cee46ee-37da-4126-a2f3-dec76028183f"
      },
      "execution_count": 21,
      "outputs": [
        {
          "output_type": "execute_result",
          "data": {
            "text/plain": [
              "(2, 4)"
            ]
          },
          "metadata": {},
          "execution_count": 21
        }
      ]
    },
    {
      "cell_type": "code",
      "source": [
        "#2 rows and 4 column"
      ],
      "metadata": {
        "id": "SbEoV8DLmM21"
      },
      "execution_count": 22,
      "outputs": []
    },
    {
      "cell_type": "code",
      "source": [
        "#agar humien array k ander jo data hai ya array ka data type find karna hai us k liay\n",
        "arr_2d.dtype"
      ],
      "metadata": {
        "colab": {
          "base_uri": "https://localhost:8080/"
        },
        "id": "OwtgQuu9mmND",
        "outputId": "a6c47f06-c49f-419d-8065-e130a254c90b"
      },
      "execution_count": 23,
      "outputs": [
        {
          "output_type": "execute_result",
          "data": {
            "text/plain": [
              "dtype('int64')"
            ]
          },
          "metadata": {},
          "execution_count": 23
        }
      ]
    },
    {
      "cell_type": "code",
      "source": [
        "#ak error discuss kar laity hain for example ap ny file mien coding ki aur file band kar di next day jab ap ny wo he file \n",
        "#dobra open ki or kise variable ko print kia tu ak error ay ga \"name arr_2d is not defined\" .ap sochien gy k is file mien \n",
        "#ye variable tu mien nhy define kia hua ha lakin jab ap file band kar k dobra open karty hain tu jupyter notebook k her cell ko dobara\n",
        "#say execute karna hota hai.lakin ye ka lengthy process hai is ka ak short way hai.\n",
        "#app menue bar mien kernel/runtime per jaien aur click karien \"restart and runall\" aur pher wait karien jab tak sari cells run nahi ho jati"
      ],
      "metadata": {
        "id": "bYT1X0nQmtiI"
      },
      "execution_count": 24,
      "outputs": []
    },
    {
      "cell_type": "code",
      "source": [
        "#for example humien ak matrix create karni hai jis mien 3 rows aur 3 column houn aur sb values \"1 houn\"\n",
        "mx_1s=np.array([[1,1,1],[1,1,1],[1,1,1]])\n",
        "print(mx_1s)"
      ],
      "metadata": {
        "colab": {
          "base_uri": "https://localhost:8080/"
        },
        "id": "DwASfABOpThG",
        "outputId": "41856daf-ce5a-4c43-b353-90dcedd0c7bc"
      },
      "execution_count": 25,
      "outputs": [
        {
          "output_type": "stream",
          "name": "stdout",
          "text": [
            "[[1 1 1]\n",
            " [1 1 1]\n",
            " [1 1 1]]\n"
          ]
        }
      ]
    },
    {
      "cell_type": "code",
      "source": [
        "#ye 3x3 ki ones matrix create ho gae hai.agar humein user keh dy k 100x100 ki matric bnao tu ye process\n",
        "#kafi lamba ho jata hai.is ko short karny k liay numpy mien ak function hai.\"ones()\"\n",
        "mx_1s=np.ones(4)   #agar ak he elemet dien gy tu ye by default column value lay ga\n",
        "print(mx_1s)"
      ],
      "metadata": {
        "colab": {
          "base_uri": "https://localhost:8080/"
        },
        "id": "ZmjYHVKZqbe7",
        "outputId": "deaa827a-60db-4ae2-d498-1f73874c0e00"
      },
      "execution_count": 28,
      "outputs": [
        {
          "output_type": "stream",
          "name": "stdout",
          "text": [
            "[1. 1. 1. 1.]\n"
          ]
        }
      ]
    },
    {
      "cell_type": "code",
      "source": [
        "#ye jo ones() function hai ye by default float values bnata hai.means valye ka datatype float hota hai.\n",
        "mx_1s.dtype"
      ],
      "metadata": {
        "colab": {
          "base_uri": "https://localhost:8080/"
        },
        "id": "DEUrC0Vgrgkr",
        "outputId": "c70df40f-8c75-4e84-ab8c-bb80007ffbf3"
      },
      "execution_count": 29,
      "outputs": [
        {
          "output_type": "execute_result",
          "data": {
            "text/plain": [
              "dtype('float64')"
            ]
          },
          "metadata": {},
          "execution_count": 29
        }
      ]
    },
    {
      "cell_type": "code",
      "source": [
        "#create ones matric with rows and column tu is case mien humien ak tuple daina hota hai ones function ko\n",
        "#jis k ander rows and columns ki values hoti hain\n",
        "mx_1s = np.ones((3,4))  #ones(tuple), tuple=(rows,columns)\n",
        "print(mx_1s)"
      ],
      "metadata": {
        "colab": {
          "base_uri": "https://localhost:8080/"
        },
        "id": "P6_cOv-LryEv",
        "outputId": "abd108c5-acbe-4c5c-8e56-d2ac220dffbe"
      },
      "execution_count": 32,
      "outputs": [
        {
          "output_type": "stream",
          "name": "stdout",
          "text": [
            "[[1. 1. 1. 1.]\n",
            " [1. 1. 1. 1.]\n",
            " [1. 1. 1. 1.]]\n"
          ]
        }
      ]
    },
    {
      "cell_type": "code",
      "source": [
        "#kise function ko hum kon kon say arguments day sakty hain simple argument wali jaga per ja kar \"SHIFT+TAB\" press karien tu neachy description open ho jay gi\n"
      ],
      "metadata": {
        "id": "zcwNwGphsRWn"
      },
      "execution_count": 33,
      "outputs": []
    },
    {
      "cell_type": "code",
      "source": [
        "#agar hum chahty hain k humari values ka datatype humari marzi ka ay means integer type \n",
        "mx_1s = np.ones((3,4), dtype=int)\n",
        "print(mx_1s)\n",
        "print(mx_1s.dtype)"
      ],
      "metadata": {
        "colab": {
          "base_uri": "https://localhost:8080/"
        },
        "id": "4AShFYHYtB6W",
        "outputId": "dd48aeb0-b4d3-4fd1-ab77-9aa088de0448"
      },
      "execution_count": 36,
      "outputs": [
        {
          "output_type": "stream",
          "name": "stdout",
          "text": [
            "[[1 1 1 1]\n",
            " [1 1 1 1]\n",
            " [1 1 1 1]]\n",
            "int64\n"
          ]
        }
      ]
    },
    {
      "cell_type": "code",
      "source": [
        "#ise terhan hum zeros matrix create kar sakty hain by zeros function =zeros()\n",
        "mx_0s = np.zeros((3,6))  #ones(tuple), tuple=(rows,columns)\n",
        "print(mx_0s)"
      ],
      "metadata": {
        "colab": {
          "base_uri": "https://localhost:8080/"
        },
        "id": "IA0L2ebbtgLf",
        "outputId": "7c8973c7-f2a4-49c1-e8f5-d56438308eb1"
      },
      "execution_count": 37,
      "outputs": [
        {
          "output_type": "stream",
          "name": "stdout",
          "text": [
            "[[0. 0. 0. 0. 0. 0.]\n",
            " [0. 0. 0. 0. 0. 0.]\n",
            " [0. 0. 0. 0. 0. 0.]]\n"
          ]
        }
      ]
    },
    {
      "cell_type": "code",
      "source": [
        "#is ki hum data type b chnage kar sakty haineg boolian ya string\n",
        "mx_0s = np.zeros((3,6), dtype=bool) \n",
        "print(mx_0s)"
      ],
      "metadata": {
        "colab": {
          "base_uri": "https://localhost:8080/"
        },
        "id": "Y0MYYIv-u1N9",
        "outputId": "910d9fce-4a8d-4a41-8546-100fa412fb68"
      },
      "execution_count": 38,
      "outputs": [
        {
          "output_type": "stream",
          "name": "stdout",
          "text": [
            "[[False False False False False False]\n",
            " [False False False False False False]\n",
            " [False False False False False False]]\n"
          ]
        }
      ]
    },
    {
      "cell_type": "code",
      "source": [
        "#0 =false and 1 = true hota hai "
      ],
      "metadata": {
        "id": "MgoKSKfbvAqd"
      },
      "execution_count": 39,
      "outputs": []
    },
    {
      "cell_type": "code",
      "source": [
        "#string mien convert karty hain tu humien 0 ki value empty string mien ay gi\n",
        "mx_0s = np.zeros((3,6),dtype=str)  \n",
        "print(mx_0s)"
      ],
      "metadata": {
        "colab": {
          "base_uri": "https://localhost:8080/"
        },
        "id": "Jc8PtCshvFF1",
        "outputId": "a62d9aa3-3043-4120-9ee3-d483f24971a3"
      },
      "execution_count": 40,
      "outputs": [
        {
          "output_type": "stream",
          "name": "stdout",
          "text": [
            "[['' '' '' '' '' '']\n",
            " ['' '' '' '' '' '']\n",
            " ['' '' '' '' '' '']]\n"
          ]
        }
      ]
    },
    {
      "cell_type": "code",
      "source": [
        "#empty string represent false is ko check karty hai\n",
        "em_str=''\n",
        "print(bool(em_str))\n"
      ],
      "metadata": {
        "colab": {
          "base_uri": "https://localhost:8080/"
        },
        "id": "wBbQLiD6vUBd",
        "outputId": "6be9c0a0-e33d-4bca-bb9a-d1f1ecdd6d8e"
      },
      "execution_count": 41,
      "outputs": [
        {
          "output_type": "stream",
          "name": "stdout",
          "text": [
            "False\n"
          ]
        }
      ]
    },
    {
      "cell_type": "code",
      "source": [
        "#ab agar hum empty matrix create karna chahaty hain\n",
        "#is ka hergiz matlab ye nahi k humari jo matrix create ho gi wo empty ho gi.\n",
        "#jo matric create ho gi us mien koe na koe random value ho gi\n",
        "em_mx=np.empty((3,3))\n",
        "print(em_mx)"
      ],
      "metadata": {
        "colab": {
          "base_uri": "https://localhost:8080/"
        },
        "id": "xWMEcRmJvlL0",
        "outputId": "98509ddc-d483-40da-cd29-0bceacdcb780"
      },
      "execution_count": 42,
      "outputs": [
        {
          "output_type": "stream",
          "name": "stdout",
          "text": [
            "[[4.11971777e-316 1.77863633e-322 0.00000000e+000]\n",
            " [0.00000000e+000 0.00000000e+000 4.18489773e-062]\n",
            " [1.74254257e-076 5.20381205e-090 1.38219335e-047]]\n"
          ]
        }
      ]
    },
    {
      "cell_type": "code",
      "source": [
        "#ye hum ny dakh liay keh empty matrix mien ko na koe random value hoti hai."
      ],
      "metadata": {
        "id": "iKwGJAijwSkw"
      },
      "execution_count": 43,
      "outputs": []
    },
    {
      "cell_type": "code",
      "source": [
        "#Different NumPy Funtions"
      ],
      "metadata": {
        "id": "YvvJmu8swaMt"
      },
      "execution_count": 44,
      "outputs": []
    },
    {
      "cell_type": "code",
      "source": [
        "#arange(), arange function a=array range=range setting  ,matlab k hum ak asaw array bnaien jis\n",
        "#ki values ki range humri range k between he ho.\n",
        "#np.arange(start_val, end_vale, step)\n",
        "arr_1d=np.arange(1,13)\n",
        "print(arr_1d)"
      ],
      "metadata": {
        "colab": {
          "base_uri": "https://localhost:8080/"
        },
        "id": "zcq4Bwm0xKDB",
        "outputId": "2be62d6a-8ff9-47a5-8766-49e38026777e"
      },
      "execution_count": 45,
      "outputs": [
        {
          "output_type": "stream",
          "name": "stdout",
          "text": [
            "[ 1  2  3  4  5  6  7  8  9 10 11 12]\n"
          ]
        }
      ]
    },
    {
      "cell_type": "code",
      "source": [
        "#hum values k dermiyan steps b set kar sakty hain\n",
        "even_arr=np.arange(1,13,2)\n",
        "print(even_arr)"
      ],
      "metadata": {
        "colab": {
          "base_uri": "https://localhost:8080/"
        },
        "id": "Kut670SIzVDF",
        "outputId": "5101b51d-ceb9-4196-f37a-d6d479e8a31c"
      },
      "execution_count": 47,
      "outputs": [
        {
          "output_type": "stream",
          "name": "stdout",
          "text": [
            "[ 1  3  5  7  9 11]\n"
          ]
        }
      ]
    },
    {
      "cell_type": "code",
      "source": [
        "#agar hum chahty hain k humari marzi ki range mien humari marzi ki no. of values elements ayn \n",
        "#tu us k liay hum use karty hai linspace() function\n",
        "#np.linspace(start_range, end_range, no.of elements)\n",
        "arr_ls=np.linspace(1,5,4)\n",
        "print(arr_ls)"
      ],
      "metadata": {
        "colab": {
          "base_uri": "https://localhost:8080/"
        },
        "id": "NrfDyUMGzikj",
        "outputId": "78d0e2d0-6008-4624-89e8-36f38dfd3297"
      },
      "execution_count": 50,
      "outputs": [
        {
          "output_type": "stream",
          "name": "stdout",
          "text": [
            "[1.         2.33333333 3.66666667 5.        ]\n"
          ]
        }
      ]
    },
    {
      "cell_type": "code",
      "source": [
        "#agar hum 1D array ko 2D array mien convert karna chahty hain tu us k liay\n",
        "#hum reshape() function ka use karty hain\n",
        "#lakin humien pehly 1D array k no. of elements k pta hona chahay\n",
        "#aur 2 array mien number of elements b 1 d array jetny he hony gy\n",
        "#for example agar 1d mien 12 element hain tu 2d array jo bany ga us \n",
        "#mien b 12 he elements houn gy lakin 2x6,3x4,4x3,6x2 etc is terhan\n",
        "#1d_array.reshape(row,column)\n",
        "arr_1d=np.arange(1,13)\n",
        "arr_2d=arr_1d.reshape(3,4)\n",
        "print(arr_2d)"
      ],
      "metadata": {
        "colab": {
          "base_uri": "https://localhost:8080/"
        },
        "id": "tmSmbP8O1FTP",
        "outputId": "76c3abc1-a8a0-4c0a-b91a-afe68b15f60e"
      },
      "execution_count": 51,
      "outputs": [
        {
          "output_type": "stream",
          "name": "stdout",
          "text": [
            "[[ 1  2  3  4]\n",
            " [ 5  6  7  8]\n",
            " [ 9 10 11 12]]\n"
          ]
        }
      ]
    },
    {
      "cell_type": "code",
      "source": [
        "arr_2d=arr_1d.reshape(2,6)\n",
        "print(arr_2d)"
      ],
      "metadata": {
        "colab": {
          "base_uri": "https://localhost:8080/"
        },
        "id": "46mRNDjG3CNf",
        "outputId": "51966b1c-ae59-4792-8560-c1a5285bb559"
      },
      "execution_count": 52,
      "outputs": [
        {
          "output_type": "stream",
          "name": "stdout",
          "text": [
            "[[ 1  2  3  4  5  6]\n",
            " [ 7  8  9 10 11 12]]\n"
          ]
        }
      ]
    },
    {
      "cell_type": "code",
      "source": [
        "#ise terhan hum 1d array ko 3d array mien b convert kar sakty hain lakin reshape function 3 arguments ly ga\n",
        "arr_3d=np.arange(1,13).reshape(2,3,2)\n",
        "print(arr_3d)"
      ],
      "metadata": {
        "colab": {
          "base_uri": "https://localhost:8080/"
        },
        "id": "OP88GZIh3HOv",
        "outputId": "a711d7fd-c41e-45a7-97f3-1dfba86238e3"
      },
      "execution_count": 55,
      "outputs": [
        {
          "output_type": "stream",
          "name": "stdout",
          "text": [
            "[[[ 1  2]\n",
            "  [ 3  4]\n",
            "  [ 5  6]]\n",
            "\n",
            " [[ 7  8]\n",
            "  [ 9 10]\n",
            "  [11 12]]]\n"
          ]
        }
      ]
    },
    {
      "cell_type": "code",
      "source": [
        "arr_2d=np.arange(1,13).reshape(2,6)\n",
        "print(arr_2d)"
      ],
      "metadata": {
        "colab": {
          "base_uri": "https://localhost:8080/"
        },
        "id": "IRHudU9O4n0p",
        "outputId": "7c231a34-9663-4417-be62-238a0855ce37"
      },
      "execution_count": 56,
      "outputs": [
        {
          "output_type": "stream",
          "name": "stdout",
          "text": [
            "[[ 1  2  3  4  5  6]\n",
            " [ 7  8  9 10 11 12]]\n"
          ]
        }
      ]
    },
    {
      "cell_type": "code",
      "source": [
        "#agar hum multi dimentional array ko 1d array mien convert karna chahtgy hain\n",
        "#us k liay hum use karty hain ravel() function\n",
        "arr_2d.ravel()"
      ],
      "metadata": {
        "colab": {
          "base_uri": "https://localhost:8080/"
        },
        "id": "V17zuSSR4_x_",
        "outputId": "c763e058-b105-4cbf-beca-469a79918b86"
      },
      "execution_count": 59,
      "outputs": [
        {
          "output_type": "execute_result",
          "data": {
            "text/plain": [
              "array([ 1,  2,  3,  4,  5,  6,  7,  8,  9, 10, 11, 12])"
            ]
          },
          "metadata": {},
          "execution_count": 59
        }
      ]
    },
    {
      "cell_type": "code",
      "source": [
        "arr_3d.ravel()"
      ],
      "metadata": {
        "colab": {
          "base_uri": "https://localhost:8080/"
        },
        "id": "5vywhm2b5bR2",
        "outputId": "3579bf88-c794-4c6c-aa23-86729bc52097"
      },
      "execution_count": 60,
      "outputs": [
        {
          "output_type": "execute_result",
          "data": {
            "text/plain": [
              "array([ 1,  2,  3,  4,  5,  6,  7,  8,  9, 10, 11, 12])"
            ]
          },
          "metadata": {},
          "execution_count": 60
        }
      ]
    },
    {
      "cell_type": "code",
      "source": [
        "#similarly flatten() function b multi dimentional array ko 1d array mien converta karta hai\n",
        "arr_2d.flatten()"
      ],
      "metadata": {
        "colab": {
          "base_uri": "https://localhost:8080/"
        },
        "id": "0xrzpO9j5oTj",
        "outputId": "ffd9b3b2-b6b7-47bd-a4fc-642ee73510f0"
      },
      "execution_count": 61,
      "outputs": [
        {
          "output_type": "execute_result",
          "data": {
            "text/plain": [
              "array([ 1,  2,  3,  4,  5,  6,  7,  8,  9, 10, 11, 12])"
            ]
          },
          "metadata": {},
          "execution_count": 61
        }
      ]
    },
    {
      "cell_type": "code",
      "source": [
        "#transpose() function, convert rows into columns  bilkul mathematics ki terhan\n",
        "arr_2d=np.arange(1,13).reshape(2,6)\n",
        "print(arr_2d)\n",
        "arr_2d.transpose()"
      ],
      "metadata": {
        "colab": {
          "base_uri": "https://localhost:8080/"
        },
        "id": "An2J6paI6F07",
        "outputId": "9c99cc4e-cb58-48e0-ab5c-382864ae12be"
      },
      "execution_count": 62,
      "outputs": [
        {
          "output_type": "stream",
          "name": "stdout",
          "text": [
            "[[ 1  2  3  4  5  6]\n",
            " [ 7  8  9 10 11 12]]\n"
          ]
        },
        {
          "output_type": "execute_result",
          "data": {
            "text/plain": [
              "array([[ 1,  7],\n",
              "       [ 2,  8],\n",
              "       [ 3,  9],\n",
              "       [ 4, 10],\n",
              "       [ 5, 11],\n",
              "       [ 6, 12]])"
            ]
          },
          "metadata": {},
          "execution_count": 62
        }
      ]
    },
    {
      "cell_type": "code",
      "source": [
        "#hum transpose function ki jaga arry.T ka use b kar sakty hain\n",
        "arr_2d.T"
      ],
      "metadata": {
        "colab": {
          "base_uri": "https://localhost:8080/"
        },
        "id": "NAVD8cU-6qFS",
        "outputId": "b205b05f-0b3f-48dd-ca5c-14be7472fc69"
      },
      "execution_count": 63,
      "outputs": [
        {
          "output_type": "execute_result",
          "data": {
            "text/plain": [
              "array([[ 1,  7],\n",
              "       [ 2,  8],\n",
              "       [ 3,  9],\n",
              "       [ 4, 10],\n",
              "       [ 5, 11],\n",
              "       [ 6, 12]])"
            ]
          },
          "metadata": {},
          "execution_count": 63
        }
      ]
    },
    {
      "cell_type": "code",
      "source": [
        "#mathematical operation using numpy "
      ],
      "metadata": {
        "id": "1N91MbY_69U2"
      },
      "execution_count": 64,
      "outputs": []
    },
    {
      "cell_type": "code",
      "source": [
        "arr1=np.arange(1,10).reshape(3,3)\n",
        "arr2=np.arange(1,10).reshape(3,3)\n",
        "print(arr1)\n",
        "print(arr2)"
      ],
      "metadata": {
        "colab": {
          "base_uri": "https://localhost:8080/"
        },
        "id": "2UxJ9nM39f3H",
        "outputId": "321a9300-198b-45c2-95f9-212cde2d8ace"
      },
      "execution_count": 65,
      "outputs": [
        {
          "output_type": "stream",
          "name": "stdout",
          "text": [
            "[[1 2 3]\n",
            " [4 5 6]\n",
            " [7 8 9]]\n",
            "[[1 2 3]\n",
            " [4 5 6]\n",
            " [7 8 9]]\n"
          ]
        }
      ]
    },
    {
      "cell_type": "code",
      "source": [
        "#simple hum in dono matrixs ko add kar sakty hai\n",
        "arr1 + arr2"
      ],
      "metadata": {
        "colab": {
          "base_uri": "https://localhost:8080/"
        },
        "id": "UB11Ck8e90xY",
        "outputId": "b98c2633-bce9-4675-ecfa-26c779d0134f"
      },
      "execution_count": 66,
      "outputs": [
        {
          "output_type": "execute_result",
          "data": {
            "text/plain": [
              "array([[ 2,  4,  6],\n",
              "       [ 8, 10, 12],\n",
              "       [14, 16, 18]])"
            ]
          },
          "metadata": {},
          "execution_count": 66
        }
      ]
    },
    {
      "cell_type": "code",
      "source": [
        "#lakin numpy mien add ka builtin function majood hai\n",
        "np.add(arr1,arr2)"
      ],
      "metadata": {
        "colab": {
          "base_uri": "https://localhost:8080/"
        },
        "id": "bQLGXY55973R",
        "outputId": "3d39e726-5d0b-4f42-e16f-3c3ad304ff17"
      },
      "execution_count": 67,
      "outputs": [
        {
          "output_type": "execute_result",
          "data": {
            "text/plain": [
              "array([[ 2,  4,  6],\n",
              "       [ 8, 10, 12],\n",
              "       [14, 16, 18]])"
            ]
          },
          "metadata": {},
          "execution_count": 67
        }
      ]
    },
    {
      "cell_type": "code",
      "source": [
        "#simmilarly subtract b kar sakty hain\n",
        "arr1 - arr2"
      ],
      "metadata": {
        "colab": {
          "base_uri": "https://localhost:8080/"
        },
        "id": "D51O2neI-IWD",
        "outputId": "b6287efb-b927-48cf-806d-a87f1c244599"
      },
      "execution_count": 68,
      "outputs": [
        {
          "output_type": "execute_result",
          "data": {
            "text/plain": [
              "array([[0, 0, 0],\n",
              "       [0, 0, 0],\n",
              "       [0, 0, 0]])"
            ]
          },
          "metadata": {},
          "execution_count": 68
        }
      ]
    },
    {
      "cell_type": "code",
      "source": [
        "np.subtract(arr1,arr2)"
      ],
      "metadata": {
        "colab": {
          "base_uri": "https://localhost:8080/"
        },
        "id": "EzIuze-l-SU4",
        "outputId": "097ae7b5-ea3d-4801-d338-7ddb948d04a2"
      },
      "execution_count": 69,
      "outputs": [
        {
          "output_type": "execute_result",
          "data": {
            "text/plain": [
              "array([[0, 0, 0],\n",
              "       [0, 0, 0],\n",
              "       [0, 0, 0]])"
            ]
          },
          "metadata": {},
          "execution_count": 69
        }
      ]
    },
    {
      "cell_type": "code",
      "source": [
        "#similarly divide per kar sakty hain\n",
        "arr1 / arr2"
      ],
      "metadata": {
        "colab": {
          "base_uri": "https://localhost:8080/"
        },
        "id": "mwGVbYPG-XwH",
        "outputId": "4d4f05bb-85ce-4b0b-e81c-e73b08d47a30"
      },
      "execution_count": 70,
      "outputs": [
        {
          "output_type": "execute_result",
          "data": {
            "text/plain": [
              "array([[1., 1., 1.],\n",
              "       [1., 1., 1.],\n",
              "       [1., 1., 1.]])"
            ]
          },
          "metadata": {},
          "execution_count": 70
        }
      ]
    },
    {
      "cell_type": "code",
      "source": [
        "np.divide(arr1,arr2)"
      ],
      "metadata": {
        "colab": {
          "base_uri": "https://localhost:8080/"
        },
        "id": "zHaDrmp--eST",
        "outputId": "90f316e1-6ae5-4666-b631-3ff25aa98964"
      },
      "execution_count": 71,
      "outputs": [
        {
          "output_type": "execute_result",
          "data": {
            "text/plain": [
              "array([[1., 1., 1.],\n",
              "       [1., 1., 1.],\n",
              "       [1., 1., 1.]])"
            ]
          },
          "metadata": {},
          "execution_count": 71
        }
      ]
    },
    {
      "cell_type": "code",
      "source": [
        "#similarly multiply b kar sakty hain\n",
        "arr1 * arr2"
      ],
      "metadata": {
        "colab": {
          "base_uri": "https://localhost:8080/"
        },
        "id": "2eImrDTt-ikR",
        "outputId": "2cd03acc-1984-40c2-df5b-6a62f9f2728a"
      },
      "execution_count": 72,
      "outputs": [
        {
          "output_type": "execute_result",
          "data": {
            "text/plain": [
              "array([[ 1,  4,  9],\n",
              "       [16, 25, 36],\n",
              "       [49, 64, 81]])"
            ]
          },
          "metadata": {},
          "execution_count": 72
        }
      ]
    },
    {
      "cell_type": "code",
      "source": [
        "np.multiply(arr1,arr2)"
      ],
      "metadata": {
        "colab": {
          "base_uri": "https://localhost:8080/"
        },
        "id": "8tD-L9QK-yKR",
        "outputId": "0b003a5f-2759-4a51-f423-ab5702c2f27c"
      },
      "execution_count": 73,
      "outputs": [
        {
          "output_type": "execute_result",
          "data": {
            "text/plain": [
              "array([[ 1,  4,  9],\n",
              "       [16, 25, 36],\n",
              "       [49, 64, 81]])"
            ]
          },
          "metadata": {},
          "execution_count": 73
        }
      ]
    },
    {
      "cell_type": "code",
      "source": [
        "#agar hum matrix product laina hai 1 row multiply with first column is terhan then\n",
        "#jis terhan mathmatics mien hum calculate karty hain her row her column k sath multiply karien\n",
        "arr1 @ arr2"
      ],
      "metadata": {
        "colab": {
          "base_uri": "https://localhost:8080/"
        },
        "id": "vdFiPNX6-4Az",
        "outputId": "34945bf7-37b9-4969-b6ac-095899463e84"
      },
      "execution_count": 76,
      "outputs": [
        {
          "output_type": "execute_result",
          "data": {
            "text/plain": [
              "array([[ 30,  36,  42],\n",
              "       [ 66,  81,  96],\n",
              "       [102, 126, 150]])"
            ]
          },
          "metadata": {},
          "execution_count": 76
        }
      ]
    },
    {
      "cell_type": "code",
      "source": [
        "arr1.dot(arr2)"
      ],
      "metadata": {
        "colab": {
          "base_uri": "https://localhost:8080/"
        },
        "id": "YJcrAN7R_KaV",
        "outputId": "1203f02c-0ac5-4891-cbf6-0447d6bd7a36"
      },
      "execution_count": 77,
      "outputs": [
        {
          "output_type": "execute_result",
          "data": {
            "text/plain": [
              "array([[ 30,  36,  42],\n",
              "       [ 66,  81,  96],\n",
              "       [102, 126, 150]])"
            ]
          },
          "metadata": {},
          "execution_count": 77
        }
      ]
    },
    {
      "cell_type": "code",
      "source": [
        "#agar hum apni matrix say maximun value find karni hai.\n",
        "arr1"
      ],
      "metadata": {
        "colab": {
          "base_uri": "https://localhost:8080/"
        },
        "id": "HY_0f4kv_Trm",
        "outputId": "c32ae915-965f-43bb-cc79-9a0619e8d669"
      },
      "execution_count": 78,
      "outputs": [
        {
          "output_type": "execute_result",
          "data": {
            "text/plain": [
              "array([[1, 2, 3],\n",
              "       [4, 5, 6],\n",
              "       [7, 8, 9]])"
            ]
          },
          "metadata": {},
          "execution_count": 78
        }
      ]
    },
    {
      "cell_type": "code",
      "source": [
        "arr1.max()"
      ],
      "metadata": {
        "colab": {
          "base_uri": "https://localhost:8080/"
        },
        "id": "GegPjXer_vJ_",
        "outputId": "8938245e-e39e-4140-e0a8-0bcab5f19fe0"
      },
      "execution_count": 79,
      "outputs": [
        {
          "output_type": "execute_result",
          "data": {
            "text/plain": [
              "9"
            ]
          },
          "metadata": {},
          "execution_count": 79
        }
      ]
    },
    {
      "cell_type": "code",
      "source": [
        "#agar hum find karna chahty hain jo maximun value hai us ka kia index hai \n",
        "arr1.argmax()"
      ],
      "metadata": {
        "colab": {
          "base_uri": "https://localhost:8080/"
        },
        "id": "Ry_FO542_yEw",
        "outputId": "09b7d7bf-750e-4192-d0ba-a6a5dc139c7e"
      },
      "execution_count": 81,
      "outputs": [
        {
          "output_type": "execute_result",
          "data": {
            "text/plain": [
              "8"
            ]
          },
          "metadata": {},
          "execution_count": 81
        }
      ]
    },
    {
      "cell_type": "code",
      "source": [
        "#agar humien kise matrix ki her ak row mien maximun value kia hai ya pher her ak column mien maximum value kia haiw o find karni hai \n",
        "#us k liay hum use karty hain axis=0 or 1 as a argument\n",
        "#1 = row , 0 = column\n",
        "arr1.max(axis=1)"
      ],
      "metadata": {
        "colab": {
          "base_uri": "https://localhost:8080/"
        },
        "id": "FMPJRU4UAAVa",
        "outputId": "e6f73fbd-9c34-412e-d0a7-f09ed6015eac"
      },
      "execution_count": 82,
      "outputs": [
        {
          "output_type": "execute_result",
          "data": {
            "text/plain": [
              "array([3, 6, 9])"
            ]
          },
          "metadata": {},
          "execution_count": 82
        }
      ]
    },
    {
      "cell_type": "code",
      "source": [
        "#ye each row ki maximum value dy ga\n",
        "#ise terhan hum column ki b nikal sakty hain"
      ],
      "metadata": {
        "id": "J1jCBWhOAuPT"
      },
      "execution_count": 84,
      "outputs": []
    },
    {
      "cell_type": "code",
      "source": [
        "arr1.max(axis=0)"
      ],
      "metadata": {
        "colab": {
          "base_uri": "https://localhost:8080/"
        },
        "id": "Uc3qYn5GA2Rp",
        "outputId": "938482b7-6348-4925-9e8b-ca340354fa81"
      },
      "execution_count": 85,
      "outputs": [
        {
          "output_type": "execute_result",
          "data": {
            "text/plain": [
              "array([7, 8, 9])"
            ]
          },
          "metadata": {},
          "execution_count": 85
        }
      ]
    },
    {
      "cell_type": "code",
      "source": [
        "#similarly hum minimun value b find kar sakty hain kise b aray say\n",
        "arr1.min()"
      ],
      "metadata": {
        "colab": {
          "base_uri": "https://localhost:8080/"
        },
        "id": "QQoOAQztA8Wr",
        "outputId": "a33b6b0e-a20a-45f9-e72f-c228da36f4bc"
      },
      "execution_count": 86,
      "outputs": [
        {
          "output_type": "execute_result",
          "data": {
            "text/plain": [
              "1"
            ]
          },
          "metadata": {},
          "execution_count": 86
        }
      ]
    },
    {
      "cell_type": "code",
      "source": [
        "#similarly minimun value ka index b find kar sakty hain\n",
        "arr1.argmin()"
      ],
      "metadata": {
        "colab": {
          "base_uri": "https://localhost:8080/"
        },
        "id": "RWRADOBfBNt0",
        "outputId": "ff3d63ae-0471-4942-eb08-1c266c00287f"
      },
      "execution_count": 88,
      "outputs": [
        {
          "output_type": "execute_result",
          "data": {
            "text/plain": [
              "0"
            ]
          },
          "metadata": {},
          "execution_count": 88
        }
      ]
    },
    {
      "cell_type": "code",
      "source": [
        "#rows aur column say b minimum value nikal sakty hain"
      ],
      "metadata": {
        "id": "Y8La3XaGBR-Y"
      },
      "execution_count": 89,
      "outputs": []
    },
    {
      "cell_type": "code",
      "source": [
        "arr1.min(axis=1)"
      ],
      "metadata": {
        "colab": {
          "base_uri": "https://localhost:8080/"
        },
        "id": "JHbqJ3u2BeGm",
        "outputId": "06c8b7d2-d7d5-4bda-ea00-214a0237590e"
      },
      "execution_count": 90,
      "outputs": [
        {
          "output_type": "execute_result",
          "data": {
            "text/plain": [
              "array([1, 4, 7])"
            ]
          },
          "metadata": {},
          "execution_count": 90
        }
      ]
    },
    {
      "cell_type": "code",
      "source": [
        "arr1.min(axis=0)"
      ],
      "metadata": {
        "colab": {
          "base_uri": "https://localhost:8080/"
        },
        "id": "mM66MiirBiTf",
        "outputId": "a8974b34-13ff-49ee-9076-d22eb88df4d7"
      },
      "execution_count": 91,
      "outputs": [
        {
          "output_type": "execute_result",
          "data": {
            "text/plain": [
              "array([1, 2, 3])"
            ]
          },
          "metadata": {},
          "execution_count": 91
        }
      ]
    },
    {
      "cell_type": "code",
      "source": [
        "#agar hum array k her ak element ko add karna chahty hain\n",
        "arr1"
      ],
      "metadata": {
        "colab": {
          "base_uri": "https://localhost:8080/"
        },
        "id": "2rRB9lKZBnpz",
        "outputId": "dc326925-97d9-40b6-cff8-148cd91364af"
      },
      "execution_count": 92,
      "outputs": [
        {
          "output_type": "execute_result",
          "data": {
            "text/plain": [
              "array([[1, 2, 3],\n",
              "       [4, 5, 6],\n",
              "       [7, 8, 9]])"
            ]
          },
          "metadata": {},
          "execution_count": 92
        }
      ]
    },
    {
      "cell_type": "code",
      "source": [
        "np.sum(arr1)"
      ],
      "metadata": {
        "colab": {
          "base_uri": "https://localhost:8080/"
        },
        "id": "JrsJvtY9B71W",
        "outputId": "aed3ef65-038a-4e2d-ffb5-d21709233869"
      },
      "execution_count": 94,
      "outputs": [
        {
          "output_type": "execute_result",
          "data": {
            "text/plain": [
              "45"
            ]
          },
          "metadata": {},
          "execution_count": 94
        }
      ]
    },
    {
      "cell_type": "code",
      "source": [
        "#ise terhan hum chahty hain her ak column aur her ak row ka sum chahay tu us k liay\n",
        "np.sum(arr1,axis=1)  #axis = 1 for row and 0 for column"
      ],
      "metadata": {
        "colab": {
          "base_uri": "https://localhost:8080/"
        },
        "id": "1Pf09TnyB-Fi",
        "outputId": "0b51f208-ca5f-44da-e10f-625c4df0e3ad"
      },
      "execution_count": 95,
      "outputs": [
        {
          "output_type": "execute_result",
          "data": {
            "text/plain": [
              "array([ 6, 15, 24])"
            ]
          },
          "metadata": {},
          "execution_count": 95
        }
      ]
    },
    {
      "cell_type": "code",
      "source": [
        "np.sum(arr1,axis=0)"
      ],
      "metadata": {
        "colab": {
          "base_uri": "https://localhost:8080/"
        },
        "id": "7E4upAQJCcdq",
        "outputId": "f57bcde8-dda5-4bfb-bfc8-937a4677c0aa"
      },
      "execution_count": 96,
      "outputs": [
        {
          "output_type": "execute_result",
          "data": {
            "text/plain": [
              "array([12, 15, 18])"
            ]
          },
          "metadata": {},
          "execution_count": 96
        }
      ]
    },
    {
      "cell_type": "code",
      "source": [
        "#agar hum kise matric ki values ka mean or average find karna chahty hain tu us k liay hain mean() function\n",
        "np.mean(arr1)\n"
      ],
      "metadata": {
        "colab": {
          "base_uri": "https://localhost:8080/"
        },
        "id": "1gNZXePNChWf",
        "outputId": "2a7cf523-a259-439b-afd2-4ab17c36f6ae"
      },
      "execution_count": 97,
      "outputs": [
        {
          "output_type": "execute_result",
          "data": {
            "text/plain": [
              "5.0"
            ]
          },
          "metadata": {},
          "execution_count": 97
        }
      ]
    },
    {
      "cell_type": "code",
      "source": [
        "#agar mujy matrix ki her ak value ka sequrae root b=find karna hai us k liay\n",
        "np.sqrt(arr1)"
      ],
      "metadata": {
        "colab": {
          "base_uri": "https://localhost:8080/"
        },
        "id": "_ljYjUAeC7nk",
        "outputId": "6451a39b-1011-4c60-cdae-3167a603571d"
      },
      "execution_count": 98,
      "outputs": [
        {
          "output_type": "execute_result",
          "data": {
            "text/plain": [
              "array([[1.        , 1.41421356, 1.73205081],\n",
              "       [2.        , 2.23606798, 2.44948974],\n",
              "       [2.64575131, 2.82842712, 3.        ]])"
            ]
          },
          "metadata": {},
          "execution_count": 98
        }
      ]
    },
    {
      "cell_type": "code",
      "source": [
        "#agar hum kise b matrix ka standard deviation find karna chahty hain tu\n",
        "np.std(arr1)"
      ],
      "metadata": {
        "colab": {
          "base_uri": "https://localhost:8080/"
        },
        "id": "iRTr7f1NDQV2",
        "outputId": "ee21a9a5-6588-4dc8-a164-51b50d6cd317"
      },
      "execution_count": 99,
      "outputs": [
        {
          "output_type": "execute_result",
          "data": {
            "text/plain": [
              "2.581988897471611"
            ]
          },
          "metadata": {},
          "execution_count": 99
        }
      ]
    },
    {
      "cell_type": "code",
      "source": [
        "#agar matrix k her ak element ka exponent nikalna hai e^x\n",
        "np.exp(arr1)"
      ],
      "metadata": {
        "colab": {
          "base_uri": "https://localhost:8080/"
        },
        "id": "WVw0ZIgXDf9k",
        "outputId": "cdb6e9e3-db72-4f97-c3f0-dec597080c31"
      },
      "execution_count": 100,
      "outputs": [
        {
          "output_type": "execute_result",
          "data": {
            "text/plain": [
              "array([[2.71828183e+00, 7.38905610e+00, 2.00855369e+01],\n",
              "       [5.45981500e+01, 1.48413159e+02, 4.03428793e+02],\n",
              "       [1.09663316e+03, 2.98095799e+03, 8.10308393e+03]])"
            ]
          },
          "metadata": {},
          "execution_count": 100
        }
      ]
    },
    {
      "cell_type": "code",
      "source": [
        "#agar hum matrix k her ak element ka natural log find karna chahty hain\n",
        "np.log(arr1)"
      ],
      "metadata": {
        "colab": {
          "base_uri": "https://localhost:8080/"
        },
        "id": "0_PX92FRD-pM",
        "outputId": "c65a7bd1-db2d-4544-ca1d-2df3d6fd450d"
      },
      "execution_count": 101,
      "outputs": [
        {
          "output_type": "execute_result",
          "data": {
            "text/plain": [
              "array([[0.        , 0.69314718, 1.09861229],\n",
              "       [1.38629436, 1.60943791, 1.79175947],\n",
              "       [1.94591015, 2.07944154, 2.19722458]])"
            ]
          },
          "metadata": {},
          "execution_count": 101
        }
      ]
    },
    {
      "cell_type": "code",
      "source": [
        "#agar humien her ka element ka log base 10 nikalna hai\n",
        "np.log10(arr1)"
      ],
      "metadata": {
        "colab": {
          "base_uri": "https://localhost:8080/"
        },
        "id": "NLIhBkZ3EKpk",
        "outputId": "341c8df0-3864-41d8-8903-c47fe120d0b9"
      },
      "execution_count": 102,
      "outputs": [
        {
          "output_type": "execute_result",
          "data": {
            "text/plain": [
              "array([[0.        , 0.30103   , 0.47712125],\n",
              "       [0.60205999, 0.69897   , 0.77815125],\n",
              "       [0.84509804, 0.90308999, 0.95424251]])"
            ]
          },
          "metadata": {},
          "execution_count": 102
        }
      ]
    },
    {
      "cell_type": "code",
      "source": [
        "#python NumPy array silicing \n",
        "#matlab k humien agar kise matric mien say particular value ko access karna hai ya pher kise particular \n",
        "#row ya column ko access karna hai tu is ko kehty hain silicing of array"
      ],
      "metadata": {
        "id": "Z-_So6OZEWex"
      },
      "execution_count": 103,
      "outputs": []
    },
    {
      "cell_type": "code",
      "source": [
        "#lets start\n",
        "#yahan per ap consider karien keh ye ak imagnery file say data liya hai\n",
        "#real mien tu hum pandas ki libaray use kar k file ko read karty hain pher us ko reshape karty hain\n",
        "#yahan per ap just consider karien k ye value kise imagenry file say a rahi hain\n",
        "mx = np.arange(1,101).reshape(10,10)\n",
        "print(mx)"
      ],
      "metadata": {
        "colab": {
          "base_uri": "https://localhost:8080/"
        },
        "id": "BnATHjTyE92V",
        "outputId": "fcd6b8c0-b654-45d6-9105-9c5f1ac53807"
      },
      "execution_count": 106,
      "outputs": [
        {
          "output_type": "stream",
          "name": "stdout",
          "text": [
            "[[  1   2   3   4   5   6   7   8   9  10]\n",
            " [ 11  12  13  14  15  16  17  18  19  20]\n",
            " [ 21  22  23  24  25  26  27  28  29  30]\n",
            " [ 31  32  33  34  35  36  37  38  39  40]\n",
            " [ 41  42  43  44  45  46  47  48  49  50]\n",
            " [ 51  52  53  54  55  56  57  58  59  60]\n",
            " [ 61  62  63  64  65  66  67  68  69  70]\n",
            " [ 71  72  73  74  75  76  77  78  79  80]\n",
            " [ 81  82  83  84  85  86  87  88  89  90]\n",
            " [ 91  92  93  94  95  96  97  98  99 100]]\n"
          ]
        }
      ]
    },
    {
      "cell_type": "code",
      "source": [
        "#agar humien 1 value ko access karna hai \n",
        "#mx[row_index , column_index]\n",
        "mx[0,0]"
      ],
      "metadata": {
        "colab": {
          "base_uri": "https://localhost:8080/"
        },
        "id": "pTWN_GZEFmi3",
        "outputId": "c9c7b10b-cf7c-4dd6-c8ad-b9786328c643"
      },
      "execution_count": 108,
      "outputs": [
        {
          "output_type": "execute_result",
          "data": {
            "text/plain": [
              "1"
            ]
          },
          "metadata": {},
          "execution_count": 108
        }
      ]
    },
    {
      "cell_type": "code",
      "source": [
        "#agar humien is ki dimention find karni hai\n",
        "mx[0,0].ndim"
      ],
      "metadata": {
        "colab": {
          "base_uri": "https://localhost:8080/"
        },
        "id": "WpQkbIUYGsbS",
        "outputId": "5ff31389-989a-444c-920a-6a0462ed3403"
      },
      "execution_count": 109,
      "outputs": [
        {
          "output_type": "execute_result",
          "data": {
            "text/plain": [
              "0"
            ]
          },
          "metadata": {},
          "execution_count": 109
        }
      ]
    },
    {
      "cell_type": "code",
      "source": [
        "#0 ka matlab hai k is ki koe dimention nahi hai ye ka scaler value hai"
      ],
      "metadata": {
        "id": "R6HFSECmG5qE"
      },
      "execution_count": 110,
      "outputs": []
    },
    {
      "cell_type": "code",
      "source": [
        "#agar humari requirment hai k humien first row pori ki pori chahy \n",
        "mx[0]"
      ],
      "metadata": {
        "colab": {
          "base_uri": "https://localhost:8080/"
        },
        "id": "jztHVzLCG-4_",
        "outputId": "0ba98811-94bc-4b55-8cab-0d62db6e50a9"
      },
      "execution_count": 111,
      "outputs": [
        {
          "output_type": "execute_result",
          "data": {
            "text/plain": [
              "array([ 1,  2,  3,  4,  5,  6,  7,  8,  9, 10])"
            ]
          },
          "metadata": {},
          "execution_count": 111
        }
      ]
    },
    {
      "cell_type": "code",
      "source": [
        "#agar humien first column chahay tu us k liay humien \n",
        "#matrix[:,column index] #: coln k agay pechy kuch na likhien tu means entire rows bandta hai\n",
        "mx[: , 0]"
      ],
      "metadata": {
        "colab": {
          "base_uri": "https://localhost:8080/"
        },
        "id": "bLKOEPigHLju",
        "outputId": "a85e169b-c473-4814-d8a4-c6576439412a"
      },
      "execution_count": 112,
      "outputs": [
        {
          "output_type": "execute_result",
          "data": {
            "text/plain": [
              "array([ 1, 11, 21, 31, 41, 51, 61, 71, 81, 91])"
            ]
          },
          "metadata": {},
          "execution_count": 112
        }
      ]
    },
    {
      "cell_type": "code",
      "source": [
        "#ise terhan hum kise b ak column ko 2d array mien b access kar  sakty hain\n",
        "mx[: , 0: 1]"
      ],
      "metadata": {
        "colab": {
          "base_uri": "https://localhost:8080/"
        },
        "id": "RoSccgZmHutA",
        "outputId": "3dcd929a-d595-4982-f2bc-c1b3644b992e"
      },
      "execution_count": 113,
      "outputs": [
        {
          "output_type": "execute_result",
          "data": {
            "text/plain": [
              "array([[ 1],\n",
              "       [11],\n",
              "       [21],\n",
              "       [31],\n",
              "       [41],\n",
              "       [51],\n",
              "       [61],\n",
              "       [71],\n",
              "       [81],\n",
              "       [91]])"
            ]
          },
          "metadata": {},
          "execution_count": 113
        }
      ]
    },
    {
      "cell_type": "code",
      "source": [
        "mx[: , 0: 1].ndim"
      ],
      "metadata": {
        "colab": {
          "base_uri": "https://localhost:8080/"
        },
        "id": "CqQ-hP7JIQSC",
        "outputId": "5828e1c3-9be5-47e7-c92c-256dd4fb519b"
      },
      "execution_count": 114,
      "outputs": [
        {
          "output_type": "execute_result",
          "data": {
            "text/plain": [
              "2"
            ]
          },
          "metadata": {},
          "execution_count": 114
        }
      ]
    },
    {
      "cell_type": "code",
      "source": [
        "#agar hum kise particular row and column ko access karna hai tu pher\n",
        "mx"
      ],
      "metadata": {
        "colab": {
          "base_uri": "https://localhost:8080/"
        },
        "id": "586rZLiaIT8N",
        "outputId": "9873932b-c941-4760-8b7e-5cca3c4d4ab6"
      },
      "execution_count": 115,
      "outputs": [
        {
          "output_type": "execute_result",
          "data": {
            "text/plain": [
              "array([[  1,   2,   3,   4,   5,   6,   7,   8,   9,  10],\n",
              "       [ 11,  12,  13,  14,  15,  16,  17,  18,  19,  20],\n",
              "       [ 21,  22,  23,  24,  25,  26,  27,  28,  29,  30],\n",
              "       [ 31,  32,  33,  34,  35,  36,  37,  38,  39,  40],\n",
              "       [ 41,  42,  43,  44,  45,  46,  47,  48,  49,  50],\n",
              "       [ 51,  52,  53,  54,  55,  56,  57,  58,  59,  60],\n",
              "       [ 61,  62,  63,  64,  65,  66,  67,  68,  69,  70],\n",
              "       [ 71,  72,  73,  74,  75,  76,  77,  78,  79,  80],\n",
              "       [ 81,  82,  83,  84,  85,  86,  87,  88,  89,  90],\n",
              "       [ 91,  92,  93,  94,  95,  96,  97,  98,  99, 100]])"
            ]
          },
          "metadata": {},
          "execution_count": 115
        }
      ]
    },
    {
      "cell_type": "code",
      "source": [
        "mx[1:4, 1:4]"
      ],
      "metadata": {
        "colab": {
          "base_uri": "https://localhost:8080/"
        },
        "id": "uafIBuXBI4aC",
        "outputId": "85a9b70e-d713-4fd8-f89c-6038c912afe9"
      },
      "execution_count": 116,
      "outputs": [
        {
          "output_type": "execute_result",
          "data": {
            "text/plain": [
              "array([[12, 13, 14],\n",
              "       [22, 23, 24],\n",
              "       [32, 33, 34]])"
            ]
          },
          "metadata": {},
          "execution_count": 116
        }
      ]
    },
    {
      "cell_type": "code",
      "source": [
        "#agar humien all rows aur ak do column chahay\n",
        "mx[:, 1:3]"
      ],
      "metadata": {
        "colab": {
          "base_uri": "https://localhost:8080/"
        },
        "id": "daVA4xg2I-xw",
        "outputId": "623c258f-df54-477f-cfed-3eb5f1258e4f"
      },
      "execution_count": 118,
      "outputs": [
        {
          "output_type": "execute_result",
          "data": {
            "text/plain": [
              "array([[ 2,  3],\n",
              "       [12, 13],\n",
              "       [22, 23],\n",
              "       [32, 33],\n",
              "       [42, 43],\n",
              "       [52, 53],\n",
              "       [62, 63],\n",
              "       [72, 73],\n",
              "       [82, 83],\n",
              "       [92, 93]])"
            ]
          },
          "metadata": {},
          "execution_count": 118
        }
      ]
    },
    {
      "cell_type": "code",
      "source": [
        "#pori ki pori matrix ko b hum asy access kar sakty hain\n",
        "mx[:]"
      ],
      "metadata": {
        "colab": {
          "base_uri": "https://localhost:8080/"
        },
        "id": "R_5bsyQBJJ1K",
        "outputId": "53c7993e-9433-472b-eb35-e07273cdf303"
      },
      "execution_count": 119,
      "outputs": [
        {
          "output_type": "execute_result",
          "data": {
            "text/plain": [
              "array([[  1,   2,   3,   4,   5,   6,   7,   8,   9,  10],\n",
              "       [ 11,  12,  13,  14,  15,  16,  17,  18,  19,  20],\n",
              "       [ 21,  22,  23,  24,  25,  26,  27,  28,  29,  30],\n",
              "       [ 31,  32,  33,  34,  35,  36,  37,  38,  39,  40],\n",
              "       [ 41,  42,  43,  44,  45,  46,  47,  48,  49,  50],\n",
              "       [ 51,  52,  53,  54,  55,  56,  57,  58,  59,  60],\n",
              "       [ 61,  62,  63,  64,  65,  66,  67,  68,  69,  70],\n",
              "       [ 71,  72,  73,  74,  75,  76,  77,  78,  79,  80],\n",
              "       [ 81,  82,  83,  84,  85,  86,  87,  88,  89,  90],\n",
              "       [ 91,  92,  93,  94,  95,  96,  97,  98,  99, 100]])"
            ]
          },
          "metadata": {},
          "execution_count": 119
        }
      ]
    },
    {
      "cell_type": "code",
      "source": [
        "mx[:,:] #or mx[::]"
      ],
      "metadata": {
        "colab": {
          "base_uri": "https://localhost:8080/"
        },
        "id": "BKKWwf-zJe4U",
        "outputId": "c1fad41b-9dba-4148-806f-e3d8e0a23847"
      },
      "execution_count": 121,
      "outputs": [
        {
          "output_type": "execute_result",
          "data": {
            "text/plain": [
              "array([[  1,   2,   3,   4,   5,   6,   7,   8,   9,  10],\n",
              "       [ 11,  12,  13,  14,  15,  16,  17,  18,  19,  20],\n",
              "       [ 21,  22,  23,  24,  25,  26,  27,  28,  29,  30],\n",
              "       [ 31,  32,  33,  34,  35,  36,  37,  38,  39,  40],\n",
              "       [ 41,  42,  43,  44,  45,  46,  47,  48,  49,  50],\n",
              "       [ 51,  52,  53,  54,  55,  56,  57,  58,  59,  60],\n",
              "       [ 61,  62,  63,  64,  65,  66,  67,  68,  69,  70],\n",
              "       [ 71,  72,  73,  74,  75,  76,  77,  78,  79,  80],\n",
              "       [ 81,  82,  83,  84,  85,  86,  87,  88,  89,  90],\n",
              "       [ 91,  92,  93,  94,  95,  96,  97,  98,  99, 100]])"
            ]
          },
          "metadata": {},
          "execution_count": 121
        }
      ]
    },
    {
      "cell_type": "code",
      "source": [
        "#agar hum check karna chahty hain k matrix ko save karny k liay ketni memeory lagi hai\n",
        "mx.itemsize"
      ],
      "metadata": {
        "colab": {
          "base_uri": "https://localhost:8080/"
        },
        "id": "JqSxfwm8JhIo",
        "outputId": "5da32526-73ca-4416-8db8-413d06f38fee"
      },
      "execution_count": 123,
      "outputs": [
        {
          "output_type": "execute_result",
          "data": {
            "text/plain": [
              "8"
            ]
          },
          "metadata": {},
          "execution_count": 123
        }
      ]
    },
    {
      "cell_type": "code",
      "source": [
        "#8 means 8 byte memory use ki hai is matrix ny"
      ],
      "metadata": {
        "id": "ztjUIltkJ2ak"
      },
      "execution_count": 124,
      "outputs": []
    },
    {
      "cell_type": "code",
      "source": [
        "mx.dtype"
      ],
      "metadata": {
        "colab": {
          "base_uri": "https://localhost:8080/"
        },
        "id": "lnfBz-77J_T_",
        "outputId": "a6c1d373-e7f3-42eb-ec06-4c10fcdee68d"
      },
      "execution_count": 125,
      "outputs": [
        {
          "output_type": "execute_result",
          "data": {
            "text/plain": [
              "dtype('int64')"
            ]
          },
          "metadata": {},
          "execution_count": 125
        }
      ]
    },
    {
      "cell_type": "code",
      "source": [
        "64/8"
      ],
      "metadata": {
        "colab": {
          "base_uri": "https://localhost:8080/"
        },
        "id": "XAfKWzytKF6M",
        "outputId": "46165c07-4d3d-4220-bc16-8f4bf9138cb3"
      },
      "execution_count": 126,
      "outputs": [
        {
          "output_type": "execute_result",
          "data": {
            "text/plain": [
              "8.0"
            ]
          },
          "metadata": {},
          "execution_count": 126
        }
      ]
    },
    {
      "cell_type": "code",
      "source": [
        "#python Numpy array ko kis terhan concatinate aur split kar sakty hain"
      ],
      "metadata": {
        "id": "J2tN03PFRg0j"
      },
      "execution_count": 127,
      "outputs": []
    },
    {
      "cell_type": "code",
      "source": [
        "arr1 = np.arange(1,17).reshape(4,4)\n",
        "print(arr1)"
      ],
      "metadata": {
        "colab": {
          "base_uri": "https://localhost:8080/"
        },
        "id": "YCllnZrGR0m_",
        "outputId": "b0dd1a28-6980-4d34-fd72-a58655a6331e"
      },
      "execution_count": 128,
      "outputs": [
        {
          "output_type": "stream",
          "name": "stdout",
          "text": [
            "[[ 1  2  3  4]\n",
            " [ 5  6  7  8]\n",
            " [ 9 10 11 12]\n",
            " [13 14 15 16]]\n"
          ]
        }
      ]
    },
    {
      "cell_type": "code",
      "source": [
        "arr2 = np.arange(17,33).reshape(4,4)\n",
        "print(arr2)"
      ],
      "metadata": {
        "colab": {
          "base_uri": "https://localhost:8080/"
        },
        "id": "joKakJQ0S_yT",
        "outputId": "db469f85-eaee-49c7-9678-e16f77123669"
      },
      "execution_count": 129,
      "outputs": [
        {
          "output_type": "stream",
          "name": "stdout",
          "text": [
            "[[17 18 19 20]\n",
            " [21 22 23 24]\n",
            " [25 26 27 28]\n",
            " [29 30 31 32]]\n"
          ]
        }
      ]
    },
    {
      "cell_type": "code",
      "source": [
        "#ab hum in dono arrays ko concatinate karty hain\n",
        "#concatination k liay hum + operater nahi use kar sakty ye sirf list k case mien work karta hai\n",
        "#agar hum do arrays k dermian + operater use karien gy tu ye dono arrays ko add kar dy ga\n",
        "#so is k liay ak elada say function hota hai concatenate()\n",
        "np.concatenate((arr1,arr2))"
      ],
      "metadata": {
        "colab": {
          "base_uri": "https://localhost:8080/"
        },
        "id": "feYsa2cwTSy8",
        "outputId": "448aac4c-d2eb-43a8-e323-82f97a9cdc96"
      },
      "execution_count": 131,
      "outputs": [
        {
          "output_type": "execute_result",
          "data": {
            "text/plain": [
              "array([[ 1,  2,  3,  4],\n",
              "       [ 5,  6,  7,  8],\n",
              "       [ 9, 10, 11, 12],\n",
              "       [13, 14, 15, 16],\n",
              "       [17, 18, 19, 20],\n",
              "       [21, 22, 23, 24],\n",
              "       [25, 26, 27, 28],\n",
              "       [29, 30, 31, 32]])"
            ]
          },
          "metadata": {},
          "execution_count": 131
        }
      ]
    },
    {
      "cell_type": "code",
      "source": [
        "#ye ho gae column wise concatenation ab hum daikhty hain row wise concatenation\n"
      ],
      "metadata": {
        "id": "SI94ozIyUbjH"
      },
      "execution_count": 132,
      "outputs": []
    },
    {
      "cell_type": "code",
      "source": [
        "np.concatenate((arr1,arr2),axis=1)  #by default axis=0 hota hai ise liay oper wala column wise concatenate ho gya"
      ],
      "metadata": {
        "colab": {
          "base_uri": "https://localhost:8080/"
        },
        "id": "L5RMsqOhU1ZF",
        "outputId": "50c52fde-aad7-4a1b-a387-bfeaf9a7541c"
      },
      "execution_count": 133,
      "outputs": [
        {
          "output_type": "execute_result",
          "data": {
            "text/plain": [
              "array([[ 1,  2,  3,  4, 17, 18, 19, 20],\n",
              "       [ 5,  6,  7,  8, 21, 22, 23, 24],\n",
              "       [ 9, 10, 11, 12, 25, 26, 27, 28],\n",
              "       [13, 14, 15, 16, 29, 30, 31, 32]])"
            ]
          },
          "metadata": {},
          "execution_count": 133
        }
      ]
    },
    {
      "cell_type": "code",
      "source": [
        "#agar hum vertical aur horizental concatenate karna chahty hain jasy oper kia hai tu us k liay b functions hain\n",
        "np.vstack((arr1,arr2))  #vstakc()= verticle stack"
      ],
      "metadata": {
        "colab": {
          "base_uri": "https://localhost:8080/"
        },
        "id": "u0TdIoBgVRX1",
        "outputId": "9b2d7f99-85c7-43cd-a589-69890c257535"
      },
      "execution_count": 134,
      "outputs": [
        {
          "output_type": "execute_result",
          "data": {
            "text/plain": [
              "array([[ 1,  2,  3,  4],\n",
              "       [ 5,  6,  7,  8],\n",
              "       [ 9, 10, 11, 12],\n",
              "       [13, 14, 15, 16],\n",
              "       [17, 18, 19, 20],\n",
              "       [21, 22, 23, 24],\n",
              "       [25, 26, 27, 28],\n",
              "       [29, 30, 31, 32]])"
            ]
          },
          "metadata": {},
          "execution_count": 134
        }
      ]
    },
    {
      "cell_type": "code",
      "source": [
        "np.hstack((arr1,arr2)) # hstack=horizontal stack"
      ],
      "metadata": {
        "colab": {
          "base_uri": "https://localhost:8080/"
        },
        "id": "UWKrJT2SV2iF",
        "outputId": "8600a6c0-b953-4516-b634-b32be20215c8"
      },
      "execution_count": 135,
      "outputs": [
        {
          "output_type": "execute_result",
          "data": {
            "text/plain": [
              "array([[ 1,  2,  3,  4, 17, 18, 19, 20],\n",
              "       [ 5,  6,  7,  8, 21, 22, 23, 24],\n",
              "       [ 9, 10, 11, 12, 25, 26, 27, 28],\n",
              "       [13, 14, 15, 16, 29, 30, 31, 32]])"
            ]
          },
          "metadata": {},
          "execution_count": 135
        }
      ]
    },
    {
      "cell_type": "code",
      "source": [
        "#ise terhan hum 2 say zyada arrays ko b concatnate kar sakty hain\n",
        "np.hstack((arr1,arr2,arr1))"
      ],
      "metadata": {
        "colab": {
          "base_uri": "https://localhost:8080/"
        },
        "id": "UbrMoR1_V_Mi",
        "outputId": "dbbbd388-20fa-4ff6-875d-a25dcf1d7df9"
      },
      "execution_count": 136,
      "outputs": [
        {
          "output_type": "execute_result",
          "data": {
            "text/plain": [
              "array([[ 1,  2,  3,  4, 17, 18, 19, 20,  1,  2,  3,  4],\n",
              "       [ 5,  6,  7,  8, 21, 22, 23, 24,  5,  6,  7,  8],\n",
              "       [ 9, 10, 11, 12, 25, 26, 27, 28,  9, 10, 11, 12],\n",
              "       [13, 14, 15, 16, 29, 30, 31, 32, 13, 14, 15, 16]])"
            ]
          },
          "metadata": {},
          "execution_count": 136
        }
      ]
    },
    {
      "cell_type": "code",
      "source": [
        "#agar hum kise array ko split karna chahty hain tu us k liay split function hai\n",
        "#split(array_name, parts) #ketny parts mkien convert karna hai\n",
        "arr1"
      ],
      "metadata": {
        "colab": {
          "base_uri": "https://localhost:8080/"
        },
        "id": "QzchbTnYWW6f",
        "outputId": "8f5ca6fd-5c97-42e0-ae30-729f85f0ea93"
      },
      "execution_count": 137,
      "outputs": [
        {
          "output_type": "execute_result",
          "data": {
            "text/plain": [
              "array([[ 1,  2,  3,  4],\n",
              "       [ 5,  6,  7,  8],\n",
              "       [ 9, 10, 11, 12],\n",
              "       [13, 14, 15, 16]])"
            ]
          },
          "metadata": {},
          "execution_count": 137
        }
      ]
    },
    {
      "cell_type": "code",
      "source": [
        "list=np.split(arr1,2)\n",
        "list"
      ],
      "metadata": {
        "colab": {
          "base_uri": "https://localhost:8080/"
        },
        "id": "HiE4h5WAXNW-",
        "outputId": "0a24885f-3ec0-4970-a495-77a89998a85b"
      },
      "execution_count": 139,
      "outputs": [
        {
          "output_type": "execute_result",
          "data": {
            "text/plain": [
              "[array([[1, 2, 3, 4],\n",
              "        [5, 6, 7, 8]]), array([[ 9, 10, 11, 12],\n",
              "        [13, 14, 15, 16]])]"
            ]
          },
          "metadata": {},
          "execution_count": 139
        }
      ]
    },
    {
      "cell_type": "code",
      "source": [
        "type(list)"
      ],
      "metadata": {
        "colab": {
          "base_uri": "https://localhost:8080/"
        },
        "id": "PsxuWfUAXPlG",
        "outputId": "df7350f7-c498-456d-cbef-9d808fc0efa3"
      },
      "execution_count": 141,
      "outputs": [
        {
          "output_type": "execute_result",
          "data": {
            "text/plain": [
              "list"
            ]
          },
          "metadata": {},
          "execution_count": 141
        }
      ]
    },
    {
      "cell_type": "code",
      "source": [
        "list[0]"
      ],
      "metadata": {
        "colab": {
          "base_uri": "https://localhost:8080/"
        },
        "id": "VVGvDrNbXjzg",
        "outputId": "bc4687c7-724f-424a-a91a-64e9581e0b86"
      },
      "execution_count": 143,
      "outputs": [
        {
          "output_type": "execute_result",
          "data": {
            "text/plain": [
              "array([[1, 2, 3, 4],\n",
              "       [5, 6, 7, 8]])"
            ]
          },
          "metadata": {},
          "execution_count": 143
        }
      ]
    },
    {
      "cell_type": "code",
      "source": [
        "type(list[0])"
      ],
      "metadata": {
        "colab": {
          "base_uri": "https://localhost:8080/"
        },
        "id": "TdyP8yexXrcJ",
        "outputId": "2ef2b083-247e-4c02-a45b-05a3674b796a"
      },
      "execution_count": 144,
      "outputs": [
        {
          "output_type": "execute_result",
          "data": {
            "text/plain": [
              "numpy.ndarray"
            ]
          },
          "metadata": {},
          "execution_count": 144
        }
      ]
    },
    {
      "cell_type": "code",
      "source": [
        "#hum column wise b split kar sakty hain\n",
        "np.split(arr1,2, axis=1)"
      ],
      "metadata": {
        "colab": {
          "base_uri": "https://localhost:8080/"
        },
        "id": "HdWrltDEXwFv",
        "outputId": "c90f82f8-4c80-416e-966b-8a2a14ad64e1"
      },
      "execution_count": 146,
      "outputs": [
        {
          "output_type": "execute_result",
          "data": {
            "text/plain": [
              "[array([[ 1,  2],\n",
              "        [ 5,  6],\n",
              "        [ 9, 10],\n",
              "        [13, 14]]), array([[ 3,  4],\n",
              "        [ 7,  8],\n",
              "        [11, 12],\n",
              "        [15, 16]])]"
            ]
          },
          "metadata": {},
          "execution_count": 146
        }
      ]
    },
    {
      "cell_type": "code",
      "source": [
        "#hum is terhan b kar sakty hain k jo 2 array create kart hain wo kahan say start houn un ki pehli value kia ho?\n",
        "d1=np.array([4,7,1,3,9])\n",
        "d1"
      ],
      "metadata": {
        "colab": {
          "base_uri": "https://localhost:8080/"
        },
        "id": "bJGvawa7YBFA",
        "outputId": "b968e255-03e2-455c-a3f5-402e88027035"
      },
      "execution_count": 148,
      "outputs": [
        {
          "output_type": "execute_result",
          "data": {
            "text/plain": [
              "array([4, 7, 1, 3, 9])"
            ]
          },
          "metadata": {},
          "execution_count": 148
        }
      ]
    },
    {
      "cell_type": "code",
      "source": [
        "np.split(d1, [1,3])"
      ],
      "metadata": {
        "colab": {
          "base_uri": "https://localhost:8080/"
        },
        "id": "BC0PGCNCYuHo",
        "outputId": "ebf84426-6d4a-42ba-e44f-b0d04ec47605"
      },
      "execution_count": 149,
      "outputs": [
        {
          "output_type": "execute_result",
          "data": {
            "text/plain": [
              "[array([4]), array([7, 1]), array([3, 9])]"
            ]
          },
          "metadata": {},
          "execution_count": 149
        }
      ]
    },
    {
      "cell_type": "code",
      "source": [
        "#trignomatric function using numpy "
      ],
      "metadata": {
        "id": "6eD0zR7qZBUe"
      },
      "execution_count": 150,
      "outputs": []
    },
    {
      "cell_type": "code",
      "source": [
        "import matplotlib.pyplot as plt"
      ],
      "metadata": {
        "id": "jEg3PGgOZZH2"
      },
      "execution_count": 151,
      "outputs": []
    },
    {
      "cell_type": "code",
      "source": [
        "np.sin(180)"
      ],
      "metadata": {
        "colab": {
          "base_uri": "https://localhost:8080/"
        },
        "id": "DfO1zqx-aCG2",
        "outputId": "7ace5d2e-e374-444b-971a-7f113ea95bca"
      },
      "execution_count": 152,
      "outputs": [
        {
          "output_type": "execute_result",
          "data": {
            "text/plain": [
              "-0.8011526357338304"
            ]
          },
          "metadata": {},
          "execution_count": 152
        }
      ]
    },
    {
      "cell_type": "code",
      "source": [
        "np.sin(90)"
      ],
      "metadata": {
        "colab": {
          "base_uri": "https://localhost:8080/"
        },
        "id": "Bz1CnI6Ha6Pu",
        "outputId": "d2208d1f-c097-40fd-9e3c-a7d9af69522d"
      },
      "execution_count": 153,
      "outputs": [
        {
          "output_type": "execute_result",
          "data": {
            "text/plain": [
              "0.8939966636005579"
            ]
          },
          "metadata": {},
          "execution_count": 153
        }
      ]
    },
    {
      "cell_type": "code",
      "source": [
        "np.cos(180)"
      ],
      "metadata": {
        "colab": {
          "base_uri": "https://localhost:8080/"
        },
        "id": "ldZyI2-ka8fT",
        "outputId": "f89ed23c-4d97-44f1-94af-704171aa6da0"
      },
      "execution_count": 154,
      "outputs": [
        {
          "output_type": "execute_result",
          "data": {
            "text/plain": [
              "-0.5984600690578581"
            ]
          },
          "metadata": {},
          "execution_count": 154
        }
      ]
    },
    {
      "cell_type": "code",
      "source": [
        "np.tan(180)"
      ],
      "metadata": {
        "colab": {
          "base_uri": "https://localhost:8080/"
        },
        "id": "4x_BeBWva-2E",
        "outputId": "2c96b5bc-98fe-41c3-cc16-98adcf027040"
      },
      "execution_count": 155,
      "outputs": [
        {
          "output_type": "execute_result",
          "data": {
            "text/plain": [
              "1.3386902103511544"
            ]
          },
          "metadata": {},
          "execution_count": 155
        }
      ]
    },
    {
      "cell_type": "code",
      "source": [
        "#ab hum sin ka graph bnaty hain aur visulize karty hain\n",
        "#is k liay humien x aur y arrays chahy\n",
        "x_sin=np.arange(0,3*np.pi,0.1)\n",
        "print(x_sin)"
      ],
      "metadata": {
        "colab": {
          "base_uri": "https://localhost:8080/"
        },
        "id": "1IMLEatcbAxA",
        "outputId": "e11a75b3-f63d-441a-a623-41246024dc15"
      },
      "execution_count": 156,
      "outputs": [
        {
          "output_type": "stream",
          "name": "stdout",
          "text": [
            "[0.  0.1 0.2 0.3 0.4 0.5 0.6 0.7 0.8 0.9 1.  1.1 1.2 1.3 1.4 1.5 1.6 1.7\n",
            " 1.8 1.9 2.  2.1 2.2 2.3 2.4 2.5 2.6 2.7 2.8 2.9 3.  3.1 3.2 3.3 3.4 3.5\n",
            " 3.6 3.7 3.8 3.9 4.  4.1 4.2 4.3 4.4 4.5 4.6 4.7 4.8 4.9 5.  5.1 5.2 5.3\n",
            " 5.4 5.5 5.6 5.7 5.8 5.9 6.  6.1 6.2 6.3 6.4 6.5 6.6 6.7 6.8 6.9 7.  7.1\n",
            " 7.2 7.3 7.4 7.5 7.6 7.7 7.8 7.9 8.  8.1 8.2 8.3 8.4 8.5 8.6 8.7 8.8 8.9\n",
            " 9.  9.1 9.2 9.3 9.4]\n"
          ]
        }
      ]
    },
    {
      "cell_type": "code",
      "source": [
        "#ab hum y ki value create karty hain\n",
        "y_sin=np.sin(x_sin)\n",
        "print(y_sin)"
      ],
      "metadata": {
        "colab": {
          "base_uri": "https://localhost:8080/"
        },
        "id": "9tszxE1rbfyC",
        "outputId": "d26cd791-2669-48d2-92f6-1d70e903b8be"
      },
      "execution_count": 158,
      "outputs": [
        {
          "output_type": "stream",
          "name": "stdout",
          "text": [
            "[ 0.          0.09983342  0.19866933  0.29552021  0.38941834  0.47942554\n",
            "  0.56464247  0.64421769  0.71735609  0.78332691  0.84147098  0.89120736\n",
            "  0.93203909  0.96355819  0.98544973  0.99749499  0.9995736   0.99166481\n",
            "  0.97384763  0.94630009  0.90929743  0.86320937  0.8084964   0.74570521\n",
            "  0.67546318  0.59847214  0.51550137  0.42737988  0.33498815  0.23924933\n",
            "  0.14112001  0.04158066 -0.05837414 -0.15774569 -0.2555411  -0.35078323\n",
            " -0.44252044 -0.52983614 -0.61185789 -0.68776616 -0.7568025  -0.81827711\n",
            " -0.87157577 -0.91616594 -0.95160207 -0.97753012 -0.993691   -0.99992326\n",
            " -0.99616461 -0.98245261 -0.95892427 -0.92581468 -0.88345466 -0.83226744\n",
            " -0.77276449 -0.70554033 -0.63126664 -0.55068554 -0.46460218 -0.37387666\n",
            " -0.2794155  -0.1821625  -0.0830894   0.0168139   0.1165492   0.21511999\n",
            "  0.31154136  0.40484992  0.49411335  0.57843976  0.6569866   0.72896904\n",
            "  0.79366786  0.85043662  0.8987081   0.93799998  0.96791967  0.98816823\n",
            "  0.99854335  0.99894134  0.98935825  0.96988981  0.94073056  0.90217183\n",
            "  0.85459891  0.79848711  0.7343971   0.66296923  0.58491719  0.50102086\n",
            "  0.41211849  0.31909836  0.22288991  0.12445442  0.02477543]\n"
          ]
        }
      ]
    },
    {
      "cell_type": "code",
      "source": [
        "plt.plot(x_sin,y_sin)\n",
        "plt.show()"
      ],
      "metadata": {
        "colab": {
          "base_uri": "https://localhost:8080/",
          "height": 265
        },
        "id": "r10S2ZNBbwm2",
        "outputId": "1bba13a0-8a76-4525-caae-fa70f71ceb3b"
      },
      "execution_count": 159,
      "outputs": [
        {
          "output_type": "display_data",
          "data": {
            "text/plain": [
              "<Figure size 432x288 with 1 Axes>"
            ],
            "image/png": "[encoded data removed]"
          },
          "metadata": {
            "needs_background": "light"
          }
        }
      ]
    },
    {
      "cell_type": "code",
      "source": [
        "#ise terhan hum  cos aur tan ki curve b show kerwa sakty hain"
      ],
      "metadata": {
        "id": "aXWZSokTcFZT"
      },
      "execution_count": 160,
      "outputs": []
    },
    {
      "cell_type": "code",
      "source": [
        "np.sin(180)"
      ],
      "metadata": {
        "colab": {
          "base_uri": "https://localhost:8080/"
        },
        "id": "2fMiK_EzcS7O",
        "outputId": "798bc179-98dc-486f-a483-7e0085c2d2c1"
      },
      "execution_count": 161,
      "outputs": [
        {
          "output_type": "execute_result",
          "data": {
            "text/plain": [
              "-0.8011526357338304"
            ]
          },
          "metadata": {},
          "execution_count": 161
        }
      ]
    },
    {
      "cell_type": "code",
      "source": [
        "#angle ki value in radian\n",
        "#ye angle 180 degree angle hai agar hum radian angle use karna chahty hain tu simple 180 ko pi say multiply kar dien aur 180 say divide kar dien\n",
        "np.sin(180 * np.pi/180)"
      ],
      "metadata": {
        "colab": {
          "base_uri": "https://localhost:8080/"
        },
        "id": "EueRj6VFcv6A",
        "outputId": "894f7fd4-5565-4994-b94f-c591714ab4b1"
      },
      "execution_count": 163,
      "outputs": [
        {
          "output_type": "execute_result",
          "data": {
            "text/plain": [
              "1.2246467991473532e-16"
            ]
          },
          "metadata": {},
          "execution_count": 163
        }
      ]
    },
    {
      "cell_type": "code",
      "source": [
        "#Random sampling using numpy"
      ],
      "metadata": {
        "id": "C27cT3SIc98p"
      },
      "execution_count": 164,
      "outputs": []
    },
    {
      "cell_type": "code",
      "source": [
        "#hum random sampling kiun use karty hain?\n",
        "#agar humien koe machine learning ya deep learning practicle perform karna hai lakin ap k pass koe data nahi hai \n",
        "#tu us waqt hum random sampling kar sakty hain as a dummy data"
      ],
      "metadata": {
        "id": "PuoxGcIBdgww"
      },
      "execution_count": 165,
      "outputs": []
    },
    {
      "cell_type": "code",
      "source": [
        "import random\n",
        "np.random.random(1) #random(no.of values)"
      ],
      "metadata": {
        "colab": {
          "base_uri": "https://localhost:8080/"
        },
        "id": "IywnTaKzd91R",
        "outputId": "b80d2115-98eb-4b34-9f1c-501f3b810b2e"
      },
      "execution_count": 167,
      "outputs": [
        {
          "output_type": "execute_result",
          "data": {
            "text/plain": [
              "array([0.01254201])"
            ]
          },
          "metadata": {},
          "execution_count": 167
        }
      ]
    },
    {
      "cell_type": "code",
      "source": [
        "#ye humaien 0 aur 1 k dermiyan he random value dy ga."
      ],
      "metadata": {
        "id": "BF0mzRbeec4B"
      },
      "execution_count": 168,
      "outputs": []
    },
    {
      "cell_type": "code",
      "source": [
        "np.random.random(4)"
      ],
      "metadata": {
        "colab": {
          "base_uri": "https://localhost:8080/"
        },
        "id": "qXomroyPeqiu",
        "outputId": "9ecc8890-ebf7-4fda-a4e2-e5526d9d95f6"
      },
      "execution_count": 171,
      "outputs": [
        {
          "output_type": "execute_result",
          "data": {
            "text/plain": [
              "array([0.39995714, 0.48306439, 0.12525314, 0.2404349 ])"
            ]
          },
          "metadata": {},
          "execution_count": 171
        }
      ]
    },
    {
      "cell_type": "code",
      "source": [
        "#aur agar hum chahty hain 2D array generate karien with random values \n",
        "#random(shape) , shape(row,column)\n",
        "np.random.random((3,3))"
      ],
      "metadata": {
        "colab": {
          "base_uri": "https://localhost:8080/"
        },
        "id": "-qp0iEwAerii",
        "outputId": "de645340-2ce2-4199-d7ac-c038d79274ef"
      },
      "execution_count": 172,
      "outputs": [
        {
          "output_type": "execute_result",
          "data": {
            "text/plain": [
              "array([[0.62783482, 0.50431263, 0.71446592],\n",
              "       [0.32079384, 0.71492602, 0.43116023],\n",
              "       [0.15918473, 0.84600928, 0.42626057]])"
            ]
          },
          "metadata": {},
          "execution_count": 172
        }
      ]
    },
    {
      "cell_type": "code",
      "source": [
        "#agar hum chahty hain 0 aur 1 k dermiyan value na houn koe integer value ho tu us case mien\n",
        "#randint(range)  #range=(start,end)\n",
        "np.random.randint(1,4)"
      ],
      "metadata": {
        "colab": {
          "base_uri": "https://localhost:8080/"
        },
        "id": "BhLcBJyxfS3-",
        "outputId": "a5f2d6fc-7552-4b3c-c3ee-589e2747b01f"
      },
      "execution_count": 173,
      "outputs": [
        {
          "output_type": "execute_result",
          "data": {
            "text/plain": [
              "2"
            ]
          },
          "metadata": {},
          "execution_count": 173
        }
      ]
    },
    {
      "cell_type": "code",
      "source": [
        "#aur agar hum chahty hain 2d array create ho with integger value tu us case mien\n",
        "#randint(range,shape) ,(star, end , (row, column))\n",
        "np.random.randint(1,4 , (4,4))"
      ],
      "metadata": {
        "colab": {
          "base_uri": "https://localhost:8080/"
        },
        "id": "fE5h_HN0gFoy",
        "outputId": "44fe1079-7fe5-4708-bd28-711ea3ba0a2a"
      },
      "execution_count": 174,
      "outputs": [
        {
          "output_type": "execute_result",
          "data": {
            "text/plain": [
              "array([[1, 2, 3, 1],\n",
              "       [1, 2, 1, 2],\n",
              "       [3, 3, 3, 1],\n",
              "       [2, 2, 3, 3]])"
            ]
          },
          "metadata": {},
          "execution_count": 174
        }
      ]
    },
    {
      "cell_type": "code",
      "source": [
        "#n array b bna sakty hain\n",
        "#randint(range,shape) ,(star, end , (no.,row, column))\n",
        "np.random.randint(1,4 , (2,4,4))"
      ],
      "metadata": {
        "colab": {
          "base_uri": "https://localhost:8080/"
        },
        "id": "CywYSXTbgePC",
        "outputId": "1d08a484-1dfa-4554-b6c7-11349c17768a"
      },
      "execution_count": 175,
      "outputs": [
        {
          "output_type": "execute_result",
          "data": {
            "text/plain": [
              "array([[[3, 2, 1, 2],\n",
              "        [1, 1, 2, 2],\n",
              "        [2, 2, 1, 3],\n",
              "        [1, 3, 1, 3]],\n",
              "\n",
              "       [[2, 3, 2, 1],\n",
              "        [2, 1, 3, 1],\n",
              "        [2, 2, 2, 2],\n",
              "        [3, 1, 1, 2]]])"
            ]
          },
          "metadata": {},
          "execution_count": 175
        }
      ]
    },
    {
      "cell_type": "code",
      "source": [
        "#ye hum daikh sakty hain her dafa different value mily gi agar hum chahty hain her dafa fix value he mily tu us case mien\n",
        "#hum seed(no.) function use karien gy\n",
        "np.random.seed(10)\n",
        "np.random.randint(1,4 , (2,4,4))"
      ],
      "metadata": {
        "colab": {
          "base_uri": "https://localhost:8080/"
        },
        "id": "Iswxo158g4sq",
        "outputId": "06928000-c5c1-4cfa-969c-8b2ef35d1ef7"
      },
      "execution_count": 176,
      "outputs": [
        {
          "output_type": "execute_result",
          "data": {
            "text/plain": [
              "array([[[2, 2, 1, 1],\n",
              "        [2, 1, 2, 2],\n",
              "        [1, 2, 2, 3],\n",
              "        [1, 2, 1, 3]],\n",
              "\n",
              "       [[1, 3, 1, 1],\n",
              "        [1, 3, 1, 3],\n",
              "        [3, 2, 1, 1],\n",
              "        [3, 2, 3, 2]]])"
            ]
          },
          "metadata": {},
          "execution_count": 176
        }
      ]
    },
    {
      "cell_type": "code",
      "source": [
        "np.random.seed(10)\n",
        "np.random.randint(1,4 , (2,4,4))"
      ],
      "metadata": {
        "colab": {
          "base_uri": "https://localhost:8080/"
        },
        "id": "gKXUnwQRhZ6E",
        "outputId": "2fff73fd-471c-4c02-f6a4-91896f0116ac"
      },
      "execution_count": 177,
      "outputs": [
        {
          "output_type": "execute_result",
          "data": {
            "text/plain": [
              "array([[[2, 2, 1, 1],\n",
              "        [2, 1, 2, 2],\n",
              "        [1, 2, 2, 3],\n",
              "        [1, 2, 1, 3]],\n",
              "\n",
              "       [[1, 3, 1, 1],\n",
              "        [1, 3, 1, 3],\n",
              "        [3, 2, 1, 1],\n",
              "        [3, 2, 3, 2]]])"
            ]
          },
          "metadata": {},
          "execution_count": 177
        }
      ]
    },
    {
      "cell_type": "code",
      "source": [
        "#her dafa same value he mily gi\n"
      ],
      "metadata": {
        "id": "ZYtWbFCPhddd"
      },
      "execution_count": 178,
      "outputs": []
    },
    {
      "cell_type": "code",
      "source": [
        "#ise terhan hum rand() function ka use kar k 1d,nd arrays create kar sakty hain\n",
        "#rand(no.)\n",
        "np.random.rand(3)"
      ],
      "metadata": {
        "colab": {
          "base_uri": "https://localhost:8080/"
        },
        "id": "sBSrO9r9hiLm",
        "outputId": "39482a51-45bf-4d10-deec-04b35cc2cd91"
      },
      "execution_count": 181,
      "outputs": [
        {
          "output_type": "execute_result",
          "data": {
            "text/plain": [
              "array([0.61194334, 0.33188226, 0.55964837])"
            ]
          },
          "metadata": {},
          "execution_count": 181
        }
      ]
    },
    {
      "cell_type": "code",
      "source": [
        "#rand(shape)\n",
        "np.random.rand(3,3)"
      ],
      "metadata": {
        "colab": {
          "base_uri": "https://localhost:8080/"
        },
        "id": "rpQMdCBTiB-D",
        "outputId": "02ae3d2f-e788-433d-e51b-0b18e5ec3a09"
      },
      "execution_count": 182,
      "outputs": [
        {
          "output_type": "execute_result",
          "data": {
            "text/plain": [
              "array([[0.33549965, 0.41118255, 0.0768555 ],\n",
              "       [0.85304299, 0.43998746, 0.12195415],\n",
              "       [0.73173462, 0.13878247, 0.76688005]])"
            ]
          },
          "metadata": {},
          "execution_count": 182
        }
      ]
    },
    {
      "cell_type": "code",
      "source": [
        "#auar agar hum negative aur possitive value wali matric create karna chahty hain tab randn() function use karty hain\n",
        "np.random.randn(3,3)"
      ],
      "metadata": {
        "colab": {
          "base_uri": "https://localhost:8080/"
        },
        "id": "wbJlALfpiGET",
        "outputId": "6567e04e-85fa-4936-aae1-46866a87d96a"
      },
      "execution_count": 183,
      "outputs": [
        {
          "output_type": "execute_result",
          "data": {
            "text/plain": [
              "array([[-0.51430791,  0.89760917,  0.98925209],\n",
              "       [ 0.25922513, -0.02419319,  0.35849666],\n",
              "       [-0.37754636,  0.69563116,  1.02484465]])"
            ]
          },
          "metadata": {},
          "execution_count": 183
        }
      ]
    },
    {
      "cell_type": "code",
      "source": [
        "#agar humien kise sequence ,list mien say kise ak value ko laina hai tu us k liay choice functon use hota hai \n",
        "list=[1,2,3,4,5]\n",
        "np.random.choice(list)"
      ],
      "metadata": {
        "colab": {
          "base_uri": "https://localhost:8080/"
        },
        "id": "v_ueEttEiirt",
        "outputId": "779f9b00-6cac-4148-ee54-0c5e21a7608c"
      },
      "execution_count": 184,
      "outputs": [
        {
          "output_type": "execute_result",
          "data": {
            "text/plain": [
              "2"
            ]
          },
          "metadata": {},
          "execution_count": 184
        }
      ]
    },
    {
      "cell_type": "code",
      "source": [
        "#string operation , string comparison ,string information using numpy"
      ],
      "metadata": {
        "id": "oOUL0dLgjJ3R"
      },
      "execution_count": 186,
      "outputs": []
    },
    {
      "cell_type": "code",
      "source": [
        "str1=\"I Love Pakistan\"\n",
        "str2=\"learning python NumPy\"\n",
        "#agar huim in do string ko jorna chahty hain concatenate karna chahaty hain tu char().add() function use ho ga\n",
        "np.char.add(str1,str2)"
      ],
      "metadata": {
        "colab": {
          "base_uri": "https://localhost:8080/"
        },
        "id": "sLI5mDjam2Kk",
        "outputId": "4be91bfb-4bbc-4d7b-9a68-b98ec0a50516"
      },
      "execution_count": 188,
      "outputs": [
        {
          "output_type": "execute_result",
          "data": {
            "text/plain": [
              "array('I Love Pakistanlearning python NumPy', dtype='<U36')"
            ]
          },
          "metadata": {},
          "execution_count": 188
        }
      ]
    },
    {
      "cell_type": "code",
      "source": [
        " #agar hum string ko lower case mien convert karna hai.\n",
        " np.char.lower(str1)"
      ],
      "metadata": {
        "colab": {
          "base_uri": "https://localhost:8080/"
        },
        "id": "n018AdzvnkVs",
        "outputId": "9d5b653a-af57-4e5a-a4b1-598f714585ed"
      },
      "execution_count": 190,
      "outputs": [
        {
          "output_type": "execute_result",
          "data": {
            "text/plain": [
              "array('i love pakistan', dtype='<U15')"
            ]
          },
          "metadata": {},
          "execution_count": 190
        }
      ]
    },
    {
      "cell_type": "code",
      "source": [
        " np.char.upper(str2)"
      ],
      "metadata": {
        "colab": {
          "base_uri": "https://localhost:8080/"
        },
        "id": "qkiDkrIan-el",
        "outputId": "69ebcda9-31f6-4ee1-f983-2a9b3938afe9"
      },
      "execution_count": 191,
      "outputs": [
        {
          "output_type": "execute_result",
          "data": {
            "text/plain": [
              "array('LEARNING PYTHON NUMPY', dtype='<U21')"
            ]
          },
          "metadata": {},
          "execution_count": 191
        }
      ]
    },
    {
      "cell_type": "code",
      "source": [
        " #agar hum chahty hain humari string center mien ay\n",
        " np.char.center(str1,60)  #60 is total length"
      ],
      "metadata": {
        "colab": {
          "base_uri": "https://localhost:8080/"
        },
        "id": "kn_6DwwfoNJ-",
        "outputId": "eb19ee9f-a16a-4e24-ade2-71cf305138f5"
      },
      "execution_count": 192,
      "outputs": [
        {
          "output_type": "execute_result",
          "data": {
            "text/plain": [
              "array('                      I Love Pakistan                       ',\n",
              "      dtype='<U60')"
            ]
          },
          "metadata": {},
          "execution_count": 192
        }
      ]
    },
    {
      "cell_type": "code",
      "source": [
        "#aur agar hum chahty hain k ye jo white space ae hai us ko kise character say fil kar dien tu \n",
        "np.char.center(str1,60, fillchar=\"*\")"
      ],
      "metadata": {
        "colab": {
          "base_uri": "https://localhost:8080/"
        },
        "id": "VyEZVVG3ozUC",
        "outputId": "83b1b19a-3092-4e55-deb4-4a4a2810181d"
      },
      "execution_count": 196,
      "outputs": [
        {
          "output_type": "execute_result",
          "data": {
            "text/plain": [
              "array('**********************I Love Pakistan***********************',\n",
              "      dtype='<U60')"
            ]
          },
          "metadata": {},
          "execution_count": 196
        }
      ]
    },
    {
      "cell_type": "code",
      "source": [
        "#hum kise b string ko split kar sakty hain\n",
        "np.char.split(str1)"
      ],
      "metadata": {
        "colab": {
          "base_uri": "https://localhost:8080/"
        },
        "id": "lVUYFicSo_Q5",
        "outputId": "b4fdbdbb-072a-4ff8-c0f8-8ca178a4fa85"
      },
      "execution_count": 197,
      "outputs": [
        {
          "output_type": "execute_result",
          "data": {
            "text/plain": [
              "array(list(['I', 'Love', 'Pakistan']), dtype=object)"
            ]
          },
          "metadata": {},
          "execution_count": 197
        }
      ]
    },
    {
      "cell_type": "code",
      "source": [
        "#agar hum \"\\n\" say string ko split karna chahty hain tu us k liay use karty hain splitlines()\n",
        "np.char.splitlines(\"hello\\npakistan\")"
      ],
      "metadata": {
        "colab": {
          "base_uri": "https://localhost:8080/"
        },
        "id": "SoOA8fy2pk0_",
        "outputId": "a94460ca-15d1-4e50-ecf3-22a27d3aca19"
      },
      "execution_count": 198,
      "outputs": [
        {
          "output_type": "execute_result",
          "data": {
            "text/plain": [
              "array(list(['hello', 'pakistan']), dtype=object)"
            ]
          },
          "metadata": {},
          "execution_count": 198
        }
      ]
    },
    {
      "cell_type": "code",
      "source": [
        "#agr hum apni string mien say her charecter ko kise dosray character say join karna chahty hain\n",
        "str3=\"dmy\"\n",
        "str4=\"dmy\"\n",
        "np.char.join(\":\",str3)"
      ],
      "metadata": {
        "colab": {
          "base_uri": "https://localhost:8080/"
        },
        "id": "fOyrFYb-qGbG",
        "outputId": "1f6b9444-a85d-4e53-a496-0061bc8749b4"
      },
      "execution_count": 202,
      "outputs": [
        {
          "output_type": "execute_result",
          "data": {
            "text/plain": [
              "array('d:m:y', dtype='<U5')"
            ]
          },
          "metadata": {},
          "execution_count": 202
        }
      ]
    },
    {
      "cell_type": "code",
      "source": [
        "#aur agar hum dono string ko character wise kise dosray character say join karna cahaty hain\n",
        "np.char.join([\":\",\"/\"],[str3,str4])"
      ],
      "metadata": {
        "colab": {
          "base_uri": "https://localhost:8080/"
        },
        "id": "gVOxFt9Cq4EP",
        "outputId": "25ec56e2-9a4a-4735-f46b-c07cd57cd40a"
      },
      "execution_count": 203,
      "outputs": [
        {
          "output_type": "execute_result",
          "data": {
            "text/plain": [
              "array(['d:m:y', 'd/m/y'], dtype='<U5')"
            ]
          },
          "metadata": {},
          "execution_count": 203
        }
      ]
    },
    {
      "cell_type": "code",
      "source": [
        "#agar hum kise string mien say kise particular character ko kise dosray character say replace karna chahty hain tu\n",
        "np.char.replace(str1, \"I\" ,\"My\")"
      ],
      "metadata": {
        "colab": {
          "base_uri": "https://localhost:8080/"
        },
        "id": "v69LvVLQrfkB",
        "outputId": "4c636f85-7b0d-4edb-d133-edaa60286358"
      },
      "execution_count": 204,
      "outputs": [
        {
          "output_type": "execute_result",
          "data": {
            "text/plain": [
              "array('My Love Pakistan', dtype='<U16')"
            ]
          },
          "metadata": {},
          "execution_count": 204
        }
      ]
    },
    {
      "cell_type": "code",
      "source": [
        "#hum daikh sakty hain k i replace ho gya hai my say"
      ],
      "metadata": {
        "id": "ZbNjbHt-r9zO"
      },
      "execution_count": 206,
      "outputs": []
    },
    {
      "cell_type": "code",
      "source": [
        "#agar hum check karna chahty hain k do strings equal hain k nahi tu us case mien\n",
        "np.char.equal(str3,str4)"
      ],
      "metadata": {
        "colab": {
          "base_uri": "https://localhost:8080/"
        },
        "id": "_1BOu9SysCd9",
        "outputId": "2f02324e-01c9-460e-8c78-52ab0aa64636"
      },
      "execution_count": 207,
      "outputs": [
        {
          "output_type": "execute_result",
          "data": {
            "text/plain": [
              "array(True)"
            ]
          },
          "metadata": {},
          "execution_count": 207
        }
      ]
    },
    {
      "cell_type": "code",
      "source": [
        "#agar humary pass koe string hai aur us string mien say humien koe information laini hai tu us case mien hum \n",
        "#string information method ka use karien gy\n",
        "np.char.count(str1, \"a\")"
      ],
      "metadata": {
        "colab": {
          "base_uri": "https://localhost:8080/"
        },
        "id": "M6MNS8b-sdw7",
        "outputId": "85b62d0b-6349-4538-d35e-aa93a02e522e"
      },
      "execution_count": 213,
      "outputs": [
        {
          "output_type": "execute_result",
          "data": {
            "text/plain": [
              "array(2)"
            ]
          },
          "metadata": {},
          "execution_count": 213
        }
      ]
    },
    {
      "cell_type": "code",
      "source": [
        "#matlab humari string mien a ketni dafa aya hai"
      ],
      "metadata": {
        "id": "iW71HbgXtAw0"
      },
      "execution_count": 214,
      "outputs": []
    },
    {
      "cell_type": "code",
      "source": [
        "#agar check karna hai koe charecter majood hai k nahi.\n",
        "np.char.find(str1,\"I\")"
      ],
      "metadata": {
        "colab": {
          "base_uri": "https://localhost:8080/"
        },
        "id": "41izLoPHtPSS",
        "outputId": "7026a001-cbd4-47d9-808e-8cbd6803540c"
      },
      "execution_count": 218,
      "outputs": [
        {
          "output_type": "execute_result",
          "data": {
            "text/plain": [
              "array(0)"
            ]
          },
          "metadata": {},
          "execution_count": 218
        }
      ]
    },
    {
      "cell_type": "code",
      "source": [
        "#ye bta dien gy k ye character kis index per hai"
      ],
      "metadata": {
        "id": "8V7lbjsmtjwM"
      },
      "execution_count": 219,
      "outputs": []
    },
    {
      "cell_type": "code",
      "source": [
        ""
      ],
      "metadata": {
        "id": "M2UYYxSoty3M"
      },
      "execution_count": null,
      "outputs": []
    }
  ]
}